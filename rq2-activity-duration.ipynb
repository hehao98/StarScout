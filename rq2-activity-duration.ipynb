{
 "cells": [
  {
   "cell_type": "code",
   "execution_count": 1,
   "metadata": {},
   "outputs": [],
   "source": [
    "import pymongo\n",
    "import pandas as pd\n",
    "import matplotlib.pyplot as plt\n",
    "import seaborn as sns\n",
    "\n",
    "from dateutil import parser\n",
    "from collections import Counter\n",
    "\n",
    "from tqdm import tqdm\n",
    "from sksurv.nonparametric import kaplan_meier_estimator\n",
    "\n",
    "from scripts import MONGO_URL, END_DATE\n",
    "from scripts.analysis import data, plot\n",
    "\n",
    "W, H = 5.5, 2.5\n",
    "plot.init_matplotlib()"
   ]
  },
  {
   "cell_type": "code",
   "execution_count": 2,
   "metadata": {},
   "outputs": [],
   "source": [
    "repos = data.get_fake_star_repos()\n",
    "stars = data.get_fake_stars_by_month()\n",
    "repos_with_campaign = data.get_repos_with_campaign()\n",
    "repos = repos[repos.repo_name.isin(repos_with_campaign)]\n",
    "deleted = set(repos[repos.repo_id.isna()].repo_name)"
   ]
  },
  {
   "cell_type": "code",
   "execution_count": 3,
   "metadata": {},
   "outputs": [],
   "source": [
    "repos[\"deleted\"] = repos.repo_id.isna()\n",
    "repos[\"n_stars_fake\"] = repos.n_stars_low_activity + repos.n_stars_clustered\n",
    "repo_to_len_campaign = Counter(stars[stars.anomaly].repo)\n",
    "repos[\"length_campaign\"] = repos.repo_name.map(lambda x: repo_to_len_campaign[x])"
   ]
  },
  {
   "cell_type": "code",
   "execution_count": 4,
   "metadata": {},
   "outputs": [
    {
     "name": "stderr",
     "output_type": "stream",
     "text": [
      "100%|██████████| 18617/18617 [02:03<00:00, 151.27it/s]\n",
      "10000it [00:05, 1737.06it/s]\n"
     ]
    }
   ],
   "source": [
    "survival_repo = []\n",
    "with pymongo.MongoClient(MONGO_URL) as client:\n",
    "    for repo in tqdm(repos_with_campaign):\n",
    "        events = list(\n",
    "            client.fake_stars.fake_repo_events.find({\"repo\": repo}).sort(\n",
    "                \"created_at\", pymongo.ASCENDING\n",
    "            )\n",
    "        )\n",
    "        if len(events) != 0:\n",
    "            start_date = parser.parse(events[0][\"created_at\"])\n",
    "            end_date = parser.parse(events[-1][\"created_at\"])\n",
    "            survival_repo.append(\n",
    "                {\n",
    "                    \"repo\": repo,\n",
    "                    \"category\": \"deleted-re\" if repo in deleted else \"fake-re\",\n",
    "                    \"fake\": True,\n",
    "                    \"start_date\": start_date,\n",
    "                    \"end_date\": end_date,\n",
    "                    \"active_days\": (end_date - start_date).days + 1,\n",
    "                }\n",
    "            )\n",
    "\n",
    "    for group in tqdm(\n",
    "        client.fake_stars.sample_repo_events.aggregate(\n",
    "            [{\"$group\": {\"_id\": \"$repo\", \"created_at\": {\"$push\": \"$created_at\"}}}]\n",
    "        )\n",
    "    ):\n",
    "        repo = group[\"_id\"]\n",
    "        events = sorted(group[\"created_at\"])\n",
    "        start_time = parser.parse(events[0])\n",
    "        end_time = parser.parse(events[-1])\n",
    "        survival_repo.append(\n",
    "            {\n",
    "                \"repo\": repo,\n",
    "                \"category\": \"sample-re\",\n",
    "                \"fake\": False,\n",
    "                \"start_time\": start_time,\n",
    "                \"end_time\": end_time,\n",
    "                \"active_days\": (end_time - start_time).days + 1,\n",
    "            }\n",
    "        )\n",
    "survival_repo = pd.DataFrame(survival_repo)"
   ]
  },
  {
   "cell_type": "code",
   "execution_count": 5,
   "metadata": {},
   "outputs": [
    {
     "name": "stderr",
     "output_type": "stream",
     "text": [
      "10000it [00:01, 7404.46it/s]\n",
      "10087it [00:01, 7432.52it/s]\n"
     ]
    }
   ],
   "source": [
    "survival_user = []\n",
    "fake_user_info = pd.read_csv(f\"data/{END_DATE}/fake_user_info.csv\")\n",
    "deleted_users = set(fake_user_info[fake_user_info.error.notnull()].actor)\n",
    "clustered_users = data.get_unique_actors_in_campaign(\"clustered\")\n",
    "low_activity_users = data.get_unique_actors_in_campaign(\"low_activity\")\n",
    "pipeline = [\n",
    "    {\n",
    "        \"$group\": {\n",
    "            \"_id\": \"$actor\",\n",
    "            \"start_time\": {\"$min\": \"$created_at\"},\n",
    "            \"end_time\": {\"$max\": \"$created_at\"},\n",
    "        }\n",
    "    }\n",
    "]\n",
    "with pymongo.MongoClient(MONGO_URL) as client:\n",
    "    for group in tqdm(client.fake_stars.sample_actor_events.aggregate(pipeline)):\n",
    "        actor = group[\"_id\"]\n",
    "        start_time = parser.parse(group[\"start_time\"])\n",
    "        end_time = parser.parse(group[\"end_time\"])\n",
    "        survival_user.append(\n",
    "            {\n",
    "                \"actor\": actor,\n",
    "                \"category\": \"sample-ac\",\n",
    "                \"fake\": False,\n",
    "                \"clustered\": False,\n",
    "                \"start_time\": start_time,\n",
    "                \"end_time\": end_time,\n",
    "                \"active_days\": (end_time - start_time).days + 1,\n",
    "            }\n",
    "        )\n",
    "    for group in tqdm(client.fake_stars.fake_actor_events.aggregate(pipeline)):\n",
    "        actor = group[\"_id\"]\n",
    "        start_time = parser.parse(group[\"start_time\"])\n",
    "        end_time = parser.parse(group[\"end_time\"])\n",
    "        if actor in low_activity_users or actor in clustered_users:\n",
    "            survival_user.append(\n",
    "                {\n",
    "                    \"actor\": actor,\n",
    "                    \"category\": \"deleted-ac\" if actor in deleted_users else \"fake-ac\",\n",
    "                    \"fake\": True,\n",
    "                    \"clustered\": actor in clustered_users,\n",
    "                    \"start_time\": start_time,\n",
    "                    \"end_time\": end_time,\n",
    "                    \"active_days\": (end_time - start_time).days + 1,\n",
    "                }\n",
    "            )\n",
    "survival_user = pd.DataFrame(survival_user)"
   ]
  },
  {
   "cell_type": "code",
   "execution_count": 6,
   "metadata": {},
   "outputs": [
    {
     "data": {
      "text/plain": [
       "Counter({False: 10638, True: 1151})"
      ]
     },
     "execution_count": 6,
     "metadata": {},
     "output_type": "execute_result"
    }
   ],
   "source": [
    "Counter(survival_user.clustered)"
   ]
  },
  {
   "cell_type": "code",
   "execution_count": 7,
   "metadata": {},
   "outputs": [
    {
     "name": "stdout",
     "output_type": "stream",
     "text": [
      "18617 15620\n",
      "1789 1051\n"
     ]
    }
   ],
   "source": [
    "print(\n",
    "    len(survival_repo[survival_repo.fake]),\n",
    "    len(survival_repo[survival_repo.fake & (survival_repo.active_days <= 10)]),\n",
    ")\n",
    "print(\n",
    "    len(survival_user[survival_user.fake]),\n",
    "    len(survival_user[survival_user.fake & (survival_user.active_days <= 10)]),\n",
    ")"
   ]
  },
  {
   "cell_type": "code",
   "execution_count": 8,
   "metadata": {},
   "outputs": [
    {
     "data": {
      "image/png": "[encoded data removed]",
      "text/plain": [
       "<Figure size 275x150 with 1 Axes>"
      ]
     },
     "metadata": {},
     "output_type": "display_data"
    },
    {
     "data": {
      "image/png": "[encoded data removed]",
      "text/plain": [
       "<Figure size 275x150 with 1 Axes>"
      ]
     },
     "metadata": {},
     "output_type": "display_data"
    }
   ],
   "source": [
    "fig, ax = plt.subplots(figsize=(W / 2, H - 1))\n",
    "sns.ecdfplot(\n",
    "    data=survival_repo,\n",
    "    x=\"active_days\",\n",
    "    hue=\"fake\",\n",
    "    complementary=True,\n",
    "    ax=ax,\n",
    "    palette=[\"C0\", \"C2\"],\n",
    ")\n",
    "ax.set_xscale(\"log\")\n",
    "ax.set_xlim(0.9)\n",
    "ax.set_xlabel(\"Activity Duration (Days)\")\n",
    "ax.set_ylabel(\"\")\n",
    "ax.legend([\"w. Fake Star Campaigns\", \"Sample Repositories\"], loc=\"upper right\")\n",
    "plot.remove_spines(ax)\n",
    "fig.savefig(\"plots/survival_repo.pdf\", bbox_inches=\"tight\")\n",
    "\n",
    "fig, ax = plt.subplots(figsize=(W / 2, H - 1))\n",
    "sns.ecdfplot(\n",
    "    data=survival_user[survival_user.clustered | ~survival_user.fake],\n",
    "    x=\"active_days\",\n",
    "    hue=\"fake\",\n",
    "    complementary=True,\n",
    "    ax=ax,\n",
    "    palette=[\"C0\", \"C2\"],\n",
    ")\n",
    "ax.legend([\"w. Lockstep Signature\", \"Sample Stargazers\"], loc=\"upper right\")\n",
    "ax.set_xscale(\"log\")\n",
    "ax.set_xlim(0.9)\n",
    "ax.set_xlabel(\"Activity Duration (Days)\")\n",
    "ax.set_ylabel(\"\")\n",
    "plot.remove_spines(ax)\n",
    "fig.savefig(\"plots/survival_user.pdf\", bbox_inches=\"tight\")"
   ]
  }
 ],
 "metadata": {
  "kernelspec": {
   "display_name": "fake-stars",
   "language": "python",
   "name": "python3"
  },
  "language_info": {
   "codemirror_mode": {
    "name": "ipython",
    "version": 3
   },
   "file_extension": ".py",
   "mimetype": "text/x-python",
   "name": "python",
   "nbconvert_exporter": "python",
   "pygments_lexer": "ipython3",
   "version": "3.12.5"
  }
 },
 "nbformat": 4,
 "nbformat_minor": 2
}

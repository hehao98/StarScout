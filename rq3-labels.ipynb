{
 "cells": [
  {
   "cell_type": "code",
   "execution_count": 2,
   "metadata": {},
   "outputs": [],
   "source": [
    "import pandas as pd\n",
    "\n",
    "from collections import Counter"
   ]
  },
  {
   "cell_type": "code",
   "execution_count": null,
   "metadata": {},
   "outputs": [
    {
     "name": "stdout",
     "output_type": "stream",
     "text": [
      "580 78 228 299\n"
     ]
    },
    {
     "data": {
      "application/vnd.microsoft.datawrangler.viewer.v0+json": {
       "columns": [
        {
         "name": "label",
         "rawType": "object",
         "type": "string"
        },
        {
         "name": "all",
         "rawType": "object",
         "type": "string"
        },
        {
         "name": "trending",
         "rawType": "object",
         "type": "string"
        },
        {
         "name": "package",
         "rawType": "object",
         "type": "string"
        },
        {
         "name": "other",
         "rawType": "object",
         "type": "string"
        }
       ],
       "conversionMethod": "pd.DataFrame",
       "ref": "2c33efc0-fc44-4303-99db-ae47f716607d",
       "rows": [
        [
         "suspicious",
         "128 (22.1%)",
         "15 (19.2%)",
         "24 (10.5%)",
         "89 (29.8%)"
        ],
        [
         "ai",
         "102 (17.6%)",
         "25 (32.1%)",
         "36 (15.7%)",
         "51 (17.1%)"
        ],
        [
         "blockchain",
         "75 (12.9%)",
         "10 (12.8%)",
         "41 (17.9%)",
         "32 (10.7%)"
        ],
        [
         "web",
         "72 (12.4%)",
         "5 (6.4%)",
         "59 (25.8%)",
         "10 (3.3%)"
        ],
        [
         "tutorial/demo",
         "61 (10.5%)",
         "4 (5.1%)",
         "2 (0.9%)",
         "55 (18.4%)"
        ],
        [
         "other",
         "53 (9.1%)",
         "7 (9.0%)",
         "26 (11.4%)",
         "23 (7.7%)"
        ],
        [
         "tool/application",
         "49 (8.4%)",
         "12 (15.4%)",
         "6 (2.6%)",
         "33 (11.0%)"
        ],
        [
         "basic-utilty",
         "23 (4.0%)",
         "0 (0.0%)",
         "22 (9.6%)",
         "1 (0.3%)"
        ],
        [
         "database",
         "17 (2.9%)",
         "0 (0.0%)",
         "12 (5.2%)",
         "5 (1.7%)"
        ]
       ],
       "shape": {
        "columns": 4,
        "rows": 9
       }
      },
      "text/html": [
       "<div>\n",
       "<style scoped>\n",
       "    .dataframe tbody tr th:only-of-type {\n",
       "        vertical-align: middle;\n",
       "    }\n",
       "\n",
       "    .dataframe tbody tr th {\n",
       "        vertical-align: top;\n",
       "    }\n",
       "\n",
       "    .dataframe thead th {\n",
       "        text-align: right;\n",
       "    }\n",
       "</style>\n",
       "<table border=\"1\" class=\"dataframe\">\n",
       "  <thead>\n",
       "    <tr style=\"text-align: right;\">\n",
       "      <th></th>\n",
       "      <th>all</th>\n",
       "      <th>trending</th>\n",
       "      <th>package</th>\n",
       "      <th>other</th>\n",
       "    </tr>\n",
       "    <tr>\n",
       "      <th>label</th>\n",
       "      <th></th>\n",
       "      <th></th>\n",
       "      <th></th>\n",
       "      <th></th>\n",
       "    </tr>\n",
       "  </thead>\n",
       "  <tbody>\n",
       "    <tr>\n",
       "      <th>suspicious</th>\n",
       "      <td>128 (22.1%)</td>\n",
       "      <td>15 (19.2%)</td>\n",
       "      <td>24 (10.5%)</td>\n",
       "      <td>89 (29.8%)</td>\n",
       "    </tr>\n",
       "    <tr>\n",
       "      <th>ai</th>\n",
       "      <td>102 (17.6%)</td>\n",
       "      <td>25 (32.1%)</td>\n",
       "      <td>36 (15.7%)</td>\n",
       "      <td>51 (17.1%)</td>\n",
       "    </tr>\n",
       "    <tr>\n",
       "      <th>blockchain</th>\n",
       "      <td>75 (12.9%)</td>\n",
       "      <td>10 (12.8%)</td>\n",
       "      <td>41 (17.9%)</td>\n",
       "      <td>32 (10.7%)</td>\n",
       "    </tr>\n",
       "    <tr>\n",
       "      <th>web</th>\n",
       "      <td>72 (12.4%)</td>\n",
       "      <td>5 (6.4%)</td>\n",
       "      <td>59 (25.8%)</td>\n",
       "      <td>10 (3.3%)</td>\n",
       "    </tr>\n",
       "    <tr>\n",
       "      <th>tutorial/demo</th>\n",
       "      <td>61 (10.5%)</td>\n",
       "      <td>4 (5.1%)</td>\n",
       "      <td>2 (0.9%)</td>\n",
       "      <td>55 (18.4%)</td>\n",
       "    </tr>\n",
       "    <tr>\n",
       "      <th>other</th>\n",
       "      <td>53 (9.1%)</td>\n",
       "      <td>7 (9.0%)</td>\n",
       "      <td>26 (11.4%)</td>\n",
       "      <td>23 (7.7%)</td>\n",
       "    </tr>\n",
       "    <tr>\n",
       "      <th>tool/application</th>\n",
       "      <td>49 (8.4%)</td>\n",
       "      <td>12 (15.4%)</td>\n",
       "      <td>6 (2.6%)</td>\n",
       "      <td>33 (11.0%)</td>\n",
       "    </tr>\n",
       "    <tr>\n",
       "      <th>basic-utilty</th>\n",
       "      <td>23 (4.0%)</td>\n",
       "      <td>0 (0.0%)</td>\n",
       "      <td>22 (9.6%)</td>\n",
       "      <td>1 (0.3%)</td>\n",
       "    </tr>\n",
       "    <tr>\n",
       "      <th>database</th>\n",
       "      <td>17 (2.9%)</td>\n",
       "      <td>0 (0.0%)</td>\n",
       "      <td>12 (5.2%)</td>\n",
       "      <td>5 (1.7%)</td>\n",
       "    </tr>\n",
       "  </tbody>\n",
       "</table>\n",
       "</div>"
      ],
      "text/plain": [
       "                          all    trending     package       other\n",
       "label                                                            \n",
       "suspicious        128 (22.1%)  15 (19.2%)  24 (10.5%)  89 (29.8%)\n",
       "ai                102 (17.6%)  25 (32.1%)  36 (15.7%)  51 (17.1%)\n",
       "blockchain         75 (12.9%)  10 (12.8%)  41 (17.9%)  32 (10.7%)\n",
       "web                72 (12.4%)    5 (6.4%)  59 (25.8%)   10 (3.3%)\n",
       "tutorial/demo      61 (10.5%)    4 (5.1%)    2 (0.9%)  55 (18.4%)\n",
       "other               53 (9.1%)    7 (9.0%)  26 (11.4%)   23 (7.7%)\n",
       "tool/application    49 (8.4%)  12 (15.4%)    6 (2.6%)  33 (11.0%)\n",
       "basic-utilty        23 (4.0%)    0 (0.0%)   22 (9.6%)    1 (0.3%)\n",
       "database            17 (2.9%)    0 (0.0%)   12 (5.2%)    5 (1.7%)"
      ]
     },
     "execution_count": 27,
     "metadata": {},
     "output_type": "execute_result"
    }
   ],
   "source": [
    "repo_labels = pd.read_csv(\"data/repo_labels.csv\")\n",
    "\n",
    "repo_labels.domain = repo_labels.domain.map(\n",
    "    lambda x: x if x not in [\"deleted\", \"bot\"] else \"other\"\n",
    ")\n",
    "\n",
    "all_ = Counter(repo_labels.domain)\n",
    "trending = Counter(repo_labels[repo_labels.trending].domain)\n",
    "package = Counter(repo_labels[repo_labels.packages].domain)\n",
    "other = Counter(repo_labels[~repo_labels.packages & ~repo_labels.trending].domain)\n",
    "\n",
    "print(\n",
    "    sum(all_.values()),\n",
    "    sum(trending.values()),\n",
    "    sum(package.values()),\n",
    "    sum(other.values()),\n",
    ")\n",
    "\n",
    "table = []\n",
    "for label, count in sorted(all_.items(), key=lambda x: x[1], reverse=True):\n",
    "    table.append(\n",
    "        {\n",
    "            \"label\": label,\n",
    "            \"all\": f\"{count} ({count / sum(all_.values()) * 100:.1f}%)\",\n",
    "            \"trending\": f\"{trending[label]} ({trending[label] / sum(trending.values()) * 100:.1f}%)\",\n",
    "            \"package\": f\"{package[label]} ({package[label] / (sum(package.values()) + 1) * 100:.1f}%)\",\n",
    "            \"other\": f\"{other[label]} ({other[label] / sum(other.values()) * 100:.1f}%)\",\n",
    "        }\n",
    "    )\n",
    "pd.DataFrame(table).set_index(\"label\")"
   ]
  },
  {
   "cell_type": "code",
   "execution_count": null,
   "metadata": {},
   "outputs": [],
   "source": [
    ","
   ]
  }
 ],
 "metadata": {
  "kernelspec": {
   "display_name": "fake-stars",
   "language": "python",
   "name": "python3"
  },
  "language_info": {
   "codemirror_mode": {
    "name": "ipython",
    "version": 3
   },
   "file_extension": ".py",
   "mimetype": "text/x-python",
   "name": "python",
   "nbconvert_exporter": "python",
   "pygments_lexer": "ipython3",
   "version": "3.12.5"
  }
 },
 "nbformat": 4,
 "nbformat_minor": 2
}

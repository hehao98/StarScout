{
 "cells": [
  {
   "cell_type": "code",
   "execution_count": 1,
   "metadata": {},
   "outputs": [],
   "source": [
    "import pandas as pd\n",
    "\n",
    "from collections import Counter"
   ]
  },
  {
   "cell_type": "code",
   "execution_count": 2,
   "metadata": {},
   "outputs": [
    {
     "name": "stdout",
     "output_type": "stream",
     "text": [
      "580 78 228 299\n"
     ]
    },
    {
     "data": {
      "application/vnd.microsoft.datawrangler.viewer.v0+json": {
       "columns": [
        {
         "name": "label",
         "rawType": "object",
         "type": "string"
        },
        {
         "name": "all",
         "rawType": "object",
         "type": "string"
        },
        {
         "name": "trending",
         "rawType": "object",
         "type": "string"
        },
        {
         "name": "package",
         "rawType": "object",
         "type": "string"
        },
        {
         "name": "other",
         "rawType": "object",
         "type": "string"
        }
       ],
       "conversionMethod": "pd.DataFrame",
       "ref": "b464fd1c-edc4-4b41-9621-7773f48b0697",
       "rows": [
        [
         "suspicious",
         "131 (22.6%)",
         "16 (20.5%)",
         "22 (9.6%)",
         "93 (31.1%)"
        ],
        [
         "ai",
         "96 (16.6%)",
         "25 (32.1%)",
         "36 (15.7%)",
         "45 (15.1%)"
        ],
        [
         "blockchain",
         "76 (13.1%)",
         "10 (12.8%)",
         "44 (19.2%)",
         "30 (10.0%)"
        ],
        [
         "tool/application",
         "73 (12.6%)",
         "15 (19.2%)",
         "22 (9.6%)",
         "39 (13.0%)"
        ],
        [
         "tutorial/demo",
         "70 (12.1%)",
         "4 (5.1%)",
         "6 (2.6%)",
         "61 (20.4%)"
        ],
        [
         "web",
         "56 (9.7%)",
         "5 (6.4%)",
         "44 (19.2%)",
         "9 (3.0%)"
        ],
        [
         "other",
         "34 (5.9%)",
         "3 (3.8%)",
         "17 (7.4%)",
         "15 (5.0%)"
        ],
        [
         "basic-utility",
         "30 (5.2%)",
         "0 (0.0%)",
         "27 (11.8%)",
         "3 (1.0%)"
        ],
        [
         "database",
         "14 (2.4%)",
         "0 (0.0%)",
         "10 (4.4%)",
         "4 (1.3%)"
        ]
       ],
       "shape": {
        "columns": 4,
        "rows": 9
       }
      },
      "text/html": [
       "<div>\n",
       "<style scoped>\n",
       "    .dataframe tbody tr th:only-of-type {\n",
       "        vertical-align: middle;\n",
       "    }\n",
       "\n",
       "    .dataframe tbody tr th {\n",
       "        vertical-align: top;\n",
       "    }\n",
       "\n",
       "    .dataframe thead th {\n",
       "        text-align: right;\n",
       "    }\n",
       "</style>\n",
       "<table border=\"1\" class=\"dataframe\">\n",
       "  <thead>\n",
       "    <tr style=\"text-align: right;\">\n",
       "      <th></th>\n",
       "      <th>all</th>\n",
       "      <th>trending</th>\n",
       "      <th>package</th>\n",
       "      <th>other</th>\n",
       "    </tr>\n",
       "    <tr>\n",
       "      <th>label</th>\n",
       "      <th></th>\n",
       "      <th></th>\n",
       "      <th></th>\n",
       "      <th></th>\n",
       "    </tr>\n",
       "  </thead>\n",
       "  <tbody>\n",
       "    <tr>\n",
       "      <th>suspicious</th>\n",
       "      <td>131 (22.6%)</td>\n",
       "      <td>16 (20.5%)</td>\n",
       "      <td>22 (9.6%)</td>\n",
       "      <td>93 (31.1%)</td>\n",
       "    </tr>\n",
       "    <tr>\n",
       "      <th>ai</th>\n",
       "      <td>96 (16.6%)</td>\n",
       "      <td>25 (32.1%)</td>\n",
       "      <td>36 (15.7%)</td>\n",
       "      <td>45 (15.1%)</td>\n",
       "    </tr>\n",
       "    <tr>\n",
       "      <th>blockchain</th>\n",
       "      <td>76 (13.1%)</td>\n",
       "      <td>10 (12.8%)</td>\n",
       "      <td>44 (19.2%)</td>\n",
       "      <td>30 (10.0%)</td>\n",
       "    </tr>\n",
       "    <tr>\n",
       "      <th>tool/application</th>\n",
       "      <td>73 (12.6%)</td>\n",
       "      <td>15 (19.2%)</td>\n",
       "      <td>22 (9.6%)</td>\n",
       "      <td>39 (13.0%)</td>\n",
       "    </tr>\n",
       "    <tr>\n",
       "      <th>tutorial/demo</th>\n",
       "      <td>70 (12.1%)</td>\n",
       "      <td>4 (5.1%)</td>\n",
       "      <td>6 (2.6%)</td>\n",
       "      <td>61 (20.4%)</td>\n",
       "    </tr>\n",
       "    <tr>\n",
       "      <th>web</th>\n",
       "      <td>56 (9.7%)</td>\n",
       "      <td>5 (6.4%)</td>\n",
       "      <td>44 (19.2%)</td>\n",
       "      <td>9 (3.0%)</td>\n",
       "    </tr>\n",
       "    <tr>\n",
       "      <th>other</th>\n",
       "      <td>34 (5.9%)</td>\n",
       "      <td>3 (3.8%)</td>\n",
       "      <td>17 (7.4%)</td>\n",
       "      <td>15 (5.0%)</td>\n",
       "    </tr>\n",
       "    <tr>\n",
       "      <th>basic-utility</th>\n",
       "      <td>30 (5.2%)</td>\n",
       "      <td>0 (0.0%)</td>\n",
       "      <td>27 (11.8%)</td>\n",
       "      <td>3 (1.0%)</td>\n",
       "    </tr>\n",
       "    <tr>\n",
       "      <th>database</th>\n",
       "      <td>14 (2.4%)</td>\n",
       "      <td>0 (0.0%)</td>\n",
       "      <td>10 (4.4%)</td>\n",
       "      <td>4 (1.3%)</td>\n",
       "    </tr>\n",
       "  </tbody>\n",
       "</table>\n",
       "</div>"
      ],
      "text/plain": [
       "                          all    trending     package       other\n",
       "label                                                            \n",
       "suspicious        131 (22.6%)  16 (20.5%)   22 (9.6%)  93 (31.1%)\n",
       "ai                 96 (16.6%)  25 (32.1%)  36 (15.7%)  45 (15.1%)\n",
       "blockchain         76 (13.1%)  10 (12.8%)  44 (19.2%)  30 (10.0%)\n",
       "tool/application   73 (12.6%)  15 (19.2%)   22 (9.6%)  39 (13.0%)\n",
       "tutorial/demo      70 (12.1%)    4 (5.1%)    6 (2.6%)  61 (20.4%)\n",
       "web                 56 (9.7%)    5 (6.4%)  44 (19.2%)    9 (3.0%)\n",
       "other               34 (5.9%)    3 (3.8%)   17 (7.4%)   15 (5.0%)\n",
       "basic-utility       30 (5.2%)    0 (0.0%)  27 (11.8%)    3 (1.0%)\n",
       "database            14 (2.4%)    0 (0.0%)   10 (4.4%)    4 (1.3%)"
      ]
     },
     "execution_count": 2,
     "metadata": {},
     "output_type": "execute_result"
    }
   ],
   "source": [
    "repo_labels = pd.read_csv(\"data/repo_labels.csv\")\n",
    "\n",
    "repo_labels.domain = repo_labels.domain.map(\n",
    "    lambda x: x if x not in [\"deleted\", \"bot\"] else \"other\"\n",
    ")\n",
    "\n",
    "all_ = Counter(repo_labels.domain)\n",
    "trending = Counter(repo_labels[repo_labels.trending].domain)\n",
    "package = Counter(repo_labels[repo_labels.packages].domain)\n",
    "other = Counter(repo_labels[~repo_labels.packages & ~repo_labels.trending].domain)\n",
    "\n",
    "print(\n",
    "    sum(all_.values()),\n",
    "    sum(trending.values()),\n",
    "    sum(package.values()),\n",
    "    sum(other.values()),\n",
    ")\n",
    "\n",
    "table = []\n",
    "for label, count in sorted(all_.items(), key=lambda x: x[1], reverse=True):\n",
    "    table.append(\n",
    "        {\n",
    "            \"label\": label,\n",
    "            \"all\": f\"{count} ({count / sum(all_.values()) * 100:.1f}%)\",\n",
    "            \"trending\": f\"{trending[label]} ({trending[label] / sum(trending.values()) * 100:.1f}%)\",\n",
    "            \"package\": f\"{package[label]} ({package[label] / (sum(package.values()) + 1) * 100:.1f}%)\",\n",
    "            \"other\": f\"{other[label]} ({other[label] / sum(other.values()) * 100:.1f}%)\",\n",
    "        }\n",
    "    )\n",
    "pd.DataFrame(table).set_index(\"label\")"
   ]
  }
 ],
 "metadata": {
  "kernelspec": {
   "display_name": "fake-stars",
   "language": "python",
   "name": "python3"
  },
  "language_info": {
   "codemirror_mode": {
    "name": "ipython",
    "version": 3
   },
   "file_extension": ".py",
   "mimetype": "text/x-python",
   "name": "python",
   "nbconvert_exporter": "python",
   "pygments_lexer": "ipython3",
   "version": "3.12.5"
  }
 },
 "nbformat": 4,
 "nbformat_minor": 2
}

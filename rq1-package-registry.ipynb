{
 "cells": [
  {
   "cell_type": "code",
   "execution_count": 2,
   "metadata": {},
   "outputs": [],
   "source": [
    "import pandas as pd\n",
    "import matplotlib.pyplot as plt\n",
    "\n",
    "from collections import Counter\n",
    "\n",
    "from scripts.analysis import plot\n",
    "\n",
    "plot.init_matplotlib()"
   ]
  },
  {
   "cell_type": "code",
   "execution_count": null,
   "metadata": {},
   "outputs": [
    {
     "name": "stdout",
     "output_type": "stream",
     "text": [
      "738 229\n",
      "Counter({'pypi': 159, 'npm': 145, 'pub': 138, 'cargo': 123, 'go': 118, 'maven': 26, 'packagist': 18, 'nuget': 4, 'actions': 2, 'deno': 1, 'spack': 1, 'swiftpm': 1, 'cocoapods': 1, 'homebrew': 1})\n",
      "Counter({'go': 74, 'pypi': 57, 'npm': 52, 'pub': 24, 'packagist': 14, 'cargo': 13, 'maven': 6, 'actions': 2, 'cocoapods': 1, 'deno': 1, 'homebrew': 1, 'nuget': 1, 'spack': 1, 'swiftpm': 1})\n"
     ]
    },
    {
     "data": {
      "application/vnd.microsoft.datawrangler.viewer.v0+json": {
       "columns": [
        {
         "name": "index",
         "rawType": "object",
         "type": "string"
        },
        {
         "name": "n_stars",
         "rawType": "float64",
         "type": "float"
        },
        {
         "name": "n_versions",
         "rawType": "float64",
         "type": "float"
        },
        {
         "name": "n_dependent_packages",
         "rawType": "float64",
         "type": "float"
        },
        {
         "name": "n_dependent_repos",
         "rawType": "float64",
         "type": "float"
        },
        {
         "name": "n_downloads",
         "rawType": "float64",
         "type": "float"
        }
       ],
       "conversionMethod": "pd.DataFrame",
       "ref": "8058a8b6-8c0c-4ce7-92ca-737fab283b80",
       "rows": [
        [
         "count",
         "738.0",
         "738.0",
         "738.0",
         "738.0",
         "446.0"
        ],
        [
         "mean",
         "1686.6883468834687",
         "37.34823848238482",
         "1.6856368563685638",
         "5.262872628726288",
         "26789.269058295966"
        ],
        [
         "std",
         "4494.671660787924",
         "68.4890972982167",
         "7.473069492517556",
         "36.42879343960539",
         "58937.06782741856"
        ],
        [
         "min",
         "54.0",
         "0.0",
         "0.0",
         "0.0",
         "0.0"
        ],
        [
         "25%",
         "240.0",
         "1.0",
         "0.0",
         "0.0",
         "70.25"
        ],
        [
         "50%",
         "348.0",
         "7.0",
         "0.0",
         "0.0",
         "947.5"
        ],
        [
         "75%",
         "1235.0",
         "36.0",
         "1.0",
         "0.0",
         "13342.25"
        ],
        [
         "max",
         "29061.0",
         "836.0",
         "149.0",
         "677.0",
         "442187.0"
        ]
       ],
       "shape": {
        "columns": 5,
        "rows": 8
       }
      },
      "text/html": [
       "<div>\n",
       "<style scoped>\n",
       "    .dataframe tbody tr th:only-of-type {\n",
       "        vertical-align: middle;\n",
       "    }\n",
       "\n",
       "    .dataframe tbody tr th {\n",
       "        vertical-align: top;\n",
       "    }\n",
       "\n",
       "    .dataframe thead th {\n",
       "        text-align: right;\n",
       "    }\n",
       "</style>\n",
       "<table border=\"1\" class=\"dataframe\">\n",
       "  <thead>\n",
       "    <tr style=\"text-align: right;\">\n",
       "      <th></th>\n",
       "      <th>n_stars</th>\n",
       "      <th>n_versions</th>\n",
       "      <th>n_dependent_packages</th>\n",
       "      <th>n_dependent_repos</th>\n",
       "      <th>n_downloads</th>\n",
       "    </tr>\n",
       "  </thead>\n",
       "  <tbody>\n",
       "    <tr>\n",
       "      <th>count</th>\n",
       "      <td>738.000000</td>\n",
       "      <td>738.000000</td>\n",
       "      <td>738.000000</td>\n",
       "      <td>738.000000</td>\n",
       "      <td>446.000000</td>\n",
       "    </tr>\n",
       "    <tr>\n",
       "      <th>mean</th>\n",
       "      <td>1686.688347</td>\n",
       "      <td>37.348238</td>\n",
       "      <td>1.685637</td>\n",
       "      <td>5.262873</td>\n",
       "      <td>26789.269058</td>\n",
       "    </tr>\n",
       "    <tr>\n",
       "      <th>std</th>\n",
       "      <td>4494.671661</td>\n",
       "      <td>68.489097</td>\n",
       "      <td>7.473069</td>\n",
       "      <td>36.428793</td>\n",
       "      <td>58937.067827</td>\n",
       "    </tr>\n",
       "    <tr>\n",
       "      <th>min</th>\n",
       "      <td>54.000000</td>\n",
       "      <td>0.000000</td>\n",
       "      <td>0.000000</td>\n",
       "      <td>0.000000</td>\n",
       "      <td>0.000000</td>\n",
       "    </tr>\n",
       "    <tr>\n",
       "      <th>25%</th>\n",
       "      <td>240.000000</td>\n",
       "      <td>1.000000</td>\n",
       "      <td>0.000000</td>\n",
       "      <td>0.000000</td>\n",
       "      <td>70.250000</td>\n",
       "    </tr>\n",
       "    <tr>\n",
       "      <th>50%</th>\n",
       "      <td>348.000000</td>\n",
       "      <td>7.000000</td>\n",
       "      <td>0.000000</td>\n",
       "      <td>0.000000</td>\n",
       "      <td>947.500000</td>\n",
       "    </tr>\n",
       "    <tr>\n",
       "      <th>75%</th>\n",
       "      <td>1235.000000</td>\n",
       "      <td>36.000000</td>\n",
       "      <td>1.000000</td>\n",
       "      <td>0.000000</td>\n",
       "      <td>13342.250000</td>\n",
       "    </tr>\n",
       "    <tr>\n",
       "      <th>max</th>\n",
       "      <td>29061.000000</td>\n",
       "      <td>836.000000</td>\n",
       "      <td>149.000000</td>\n",
       "      <td>677.000000</td>\n",
       "      <td>442187.000000</td>\n",
       "    </tr>\n",
       "  </tbody>\n",
       "</table>\n",
       "</div>"
      ],
      "text/plain": [
       "            n_stars  n_versions  n_dependent_packages  n_dependent_repos  \\\n",
       "count    738.000000  738.000000            738.000000         738.000000   \n",
       "mean    1686.688347   37.348238              1.685637           5.262873   \n",
       "std     4494.671661   68.489097              7.473069          36.428793   \n",
       "min       54.000000    0.000000              0.000000           0.000000   \n",
       "25%      240.000000    1.000000              0.000000           0.000000   \n",
       "50%      348.000000    7.000000              0.000000           0.000000   \n",
       "75%     1235.000000   36.000000              1.000000           0.000000   \n",
       "max    29061.000000  836.000000            149.000000         677.000000   \n",
       "\n",
       "         n_downloads  \n",
       "count     446.000000  \n",
       "mean    26789.269058  \n",
       "std     58937.067827  \n",
       "min         0.000000  \n",
       "25%        70.250000  \n",
       "50%       947.500000  \n",
       "75%     13342.250000  \n",
       "max    442187.000000  "
      ]
     },
     "execution_count": 3,
     "metadata": {},
     "output_type": "execute_result"
    }
   ],
   "source": [
    "pkg_fake = pd.read_csv(\"data/packages_fake.csv\")\n",
    "print(len(pkg_fake), len(pkg_fake.repo_name.unique()))\n",
    "print(Counter(pkg_fake.ecosystem))\n",
    "print(Counter(pkg_fake.groupby(\"ecosystem\").repo_name.nunique().to_dict()))\n",
    "pkg_fake.describe()"
   ]
  },
  {
   "cell_type": "code",
   "execution_count": 6,
   "metadata": {},
   "outputs": [
    {
     "name": "stdout",
     "output_type": "stream",
     "text": [
      "520 572\n"
     ]
    }
   ],
   "source": [
    "print(len(pkg_fake[pkg_fake.n_dependent_packages == 0]),\n",
    "    len(pkg_fake[pkg_fake.n_dependent_repos == 0]))"
   ]
  }
 ],
 "metadata": {
  "kernelspec": {
   "display_name": "fake-stars",
   "language": "python",
   "name": "python3"
  },
  "language_info": {
   "codemirror_mode": {
    "name": "ipython",
    "version": 3
   },
   "file_extension": ".py",
   "mimetype": "text/x-python",
   "name": "python",
   "nbconvert_exporter": "python",
   "pygments_lexer": "ipython3",
   "version": "3.12.5"
  }
 },
 "nbformat": 4,
 "nbformat_minor": 2
}

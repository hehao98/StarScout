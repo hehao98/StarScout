{
 "cells": [
  {
   "cell_type": "code",
   "execution_count": 1,
   "metadata": {},
   "outputs": [],
   "source": [
    "import random\n",
    "import numpy as np\n",
    "import pandas as pd\n",
    "import matplotlib.pyplot as plt\n",
    "import seaborn as sns\n",
    "\n",
    "from collections import defaultdict\n",
    "\n",
    "from scripts import END_DATE\n",
    "from scripts.analysis import data, plot\n",
    "\n",
    "from sklearn.preprocessing import StandardScaler\n",
    "from sklearn.manifold import TSNE\n",
    "from sklearn.cluster import SpectralClustering, KMeans\n",
    "from sklearn.metrics import silhouette_score\n",
    "\n",
    "plot.init_matplotlib()\n",
    "\n",
    "W, H = 6, 2.5"
   ]
  },
  {
   "cell_type": "code",
   "execution_count": 2,
   "metadata": {},
   "outputs": [],
   "source": [
    "repos, stars = data.get_fake_star_repos(), data.get_fake_stars_by_month()\n",
    "repos_with_campaign = data.get_repos_with_campaign()\n",
    "repo_campaign_months = set(zip(stars[stars.anomaly].repo, stars[stars.anomaly].month))"
   ]
  },
  {
   "cell_type": "code",
   "execution_count": 3,
   "metadata": {},
   "outputs": [
    {
     "name": "stdout",
     "output_type": "stream",
     "text": [
      "# repos with suspected fake stars: 26254\n",
      "# suspected fake stars: 5999002.0 , # low activity,  1066934.0 , # clustered,  4932068.0\n",
      "# repos with suspected fake star campaigns: 18617\n",
      "# suspected fake stars in those campaigns: 3807118.0\n",
      "# actors in suspected fake stars: 1501957\n",
      "# low activity stars in campaign: 96309\n",
      "# clustered actors in campaign: 206355\n",
      "# actors in suspected fake star campaigns: 301096\n"
     ]
    }
   ],
   "source": [
    "# bean counting\n",
    "print(\"# repos with suspected fake stars:\", len(repos))\n",
    "print(\n",
    "    \"# suspected fake stars:\",\n",
    "    sum(stars.n_stars_fake),\n",
    "    \", # low activity, \",\n",
    "    sum(stars.n_stars_low_activity),\n",
    "    \", # clustered, \",\n",
    "    sum(stars.n_stars_clustered),\n",
    ")\n",
    "print(\"# repos with suspected fake star campaigns:\", len(repos_with_campaign))\n",
    "print(\n",
    "    \"# suspected fake stars in those campaigns:\",\n",
    "    sum(stars[stars.repo.isin(repos_with_campaign)].n_stars_fake),\n",
    ")\n",
    "\n",
    "low_activity_actors = data.get_unique_actors(\"low_activity\")\n",
    "clustered_actors = data.get_unique_actors(\"clustered\")\n",
    "print(\n",
    "    \"# actors in suspected fake stars:\",\n",
    "    len(clustered_actors | low_activity_actors),\n",
    ")\n",
    "\n",
    "low_activity_actors_in_campaign = data.get_unique_actors_in_campaign(\"low_activity\")\n",
    "print(\"# low activity stars in campaign:\", len(low_activity_actors_in_campaign))\n",
    "\n",
    "clustered_actors_in_campaign = data.get_unique_actors_in_campaign(\"clustered\")\n",
    "print(\"# clustered actors in campaign:\", len(clustered_actors_in_campaign))\n",
    "print(\n",
    "    \"# actors in suspected fake star campaigns:\",\n",
    "    len(clustered_actors_in_campaign | low_activity_actors_in_campaign),\n",
    ")"
   ]
  },
  {
   "cell_type": "code",
   "execution_count": 4,
   "metadata": {},
   "outputs": [
    {
     "name": "stdout",
     "output_type": "stream",
     "text": [
      "Baseline % deletion: 5.03%\n",
      "% deleted in repos with fake stars: 70.05\n",
      "% deleted in low activity repos: 14.38\n",
      "% deleted in clustered repos: 82.03\n",
      "\n",
      "% deleted in repos with fake star campaigns: 90.42\n",
      "% deleted in low activity repos with campaign: 79.36\n",
      "% deleted in clustered repos with campaign: 90.70\n",
      "\n",
      "Baseline % deletion: 3.54%\n",
      "% deleted in repos with fake stars: 18.77\n",
      "% deleted in low activity repos: 19.19\n",
      "% deleted in clustered repos: 23.03\n",
      "\n",
      "% deleted in repos with fake star campaigns: 57.07\n",
      "% deleted in low activity repos with campaign: 72.29\n",
      "% deleted in clustered repos with campaign: 48.83\n",
      "\n"
     ]
    }
   ],
   "source": [
    "# face validity check: how many of the repos and actors are deleted?\n",
    "deleted = repos.repo_id.isnull()\n",
    "low_act = repos.n_stars_low_activity > 0\n",
    "clustered = repos.n_stars_clustered > 0\n",
    "campaign = repos.repo_name.isin(repos_with_campaign)\n",
    "sample_repo_ids = pd.read_csv(f\"data/{END_DATE}/sample_repo_ids.csv\")\n",
    "print(\n",
    "    f\"Baseline % deletion: {len(sample_repo_ids[sample_repo_ids.id.isnull()]) / len(repos) * 100:.2f}%\"\n",
    ")\n",
    "print(\n",
    "    f\"% deleted in repos with fake stars: {len(repos[deleted]) / len(repos) * 100:.2f}\\n\"\n",
    "    f\"% deleted in low activity repos: {len(repos[deleted & low_act]) / len(repos[low_act]) * 100:.2f}\\n\"\n",
    "    f\"% deleted in clustered repos: {len(repos[deleted & clustered]) / len(repos[clustered]) * 100:.2f}\\n\"\n",
    ")\n",
    "print(\n",
    "    f\"% deleted in repos with fake star campaigns: {len(repos[deleted & campaign]) / len(repos[campaign]) * 100:.2f}\\n\"\n",
    "    f\"% deleted in low activity repos with campaign: {len(repos[deleted & campaign & low_act]) / len(repos[campaign & low_act]) * 100:.2f}\\n\"\n",
    "    f\"% deleted in clustered repos with campaign: {len(repos[deleted & campaign & clustered]) / len(repos[campaign & clustered]) * 100:.2f}\\n\"\n",
    ")\n",
    "\n",
    "fake_user_info = pd.read_csv(f\"data/{END_DATE}/fake_user_info.csv\")\n",
    "sample_user_info = pd.read_csv(f\"data/{END_DATE}/sample_user_info.csv\")\n",
    "\n",
    "deleted = fake_user_info.error.notnull()\n",
    "low_act = fake_user_info.actor.isin(low_activity_actors)\n",
    "clustered = fake_user_info.actor.isin(clustered_actors)\n",
    "campaign = fake_user_info.actor.isin(\n",
    "    clustered_actors_in_campaign | low_activity_actors_in_campaign\n",
    ")\n",
    "print(\n",
    "    f\"Baseline % deletion: {len(sample_user_info[sample_user_info.error.notnull()]) / len(repos) * 100:.2f}%\"\n",
    ")\n",
    "print(\n",
    "    f\"% deleted in repos with fake stars: {len(fake_user_info[deleted]) / len(fake_user_info) * 100:.2f}\\n\"\n",
    "    f\"% deleted in low activity repos: {len(fake_user_info[deleted & low_act]) / len(fake_user_info[low_act]) * 100:.2f}\\n\"\n",
    "    f\"% deleted in clustered repos: {len(fake_user_info[deleted & clustered]) / len(fake_user_info[clustered]) * 100:.2f}\\n\"\n",
    ")\n",
    "print(\n",
    "    f\"% deleted in repos with fake star campaigns: {len(fake_user_info[deleted & campaign]) / len(fake_user_info[campaign]) * 100:.2f}\\n\"\n",
    "    f\"% deleted in low activity repos with campaign: {len(fake_user_info[deleted & campaign & low_act]) / len(fake_user_info[campaign & low_act]) * 100:.2f}\\n\"\n",
    "    f\"% deleted in clustered repos with campaign: {len(fake_user_info[deleted & campaign & clustered]) / len(fake_user_info[campaign & clustered]) * 100:.2f}\\n\"\n",
    ")"
   ]
  }
 ],
 "metadata": {
  "kernelspec": {
   "display_name": "fake-stars",
   "language": "python",
   "name": "python3"
  },
  "language_info": {
   "codemirror_mode": {
    "name": "ipython",
    "version": 3
   },
   "file_extension": ".py",
   "mimetype": "text/x-python",
   "name": "python",
   "nbconvert_exporter": "python",
   "pygments_lexer": "ipython3",
   "version": "3.12.5"
  }
 },
 "nbformat": 4,
 "nbformat_minor": 2
}

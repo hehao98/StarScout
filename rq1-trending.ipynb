{
 "cells": [
  {
   "cell_type": "code",
   "execution_count": 13,
   "metadata": {},
   "outputs": [],
   "source": [
    "import os\n",
    "import re\n",
    "import pandas as pd\n",
    "import matplotlib.pyplot as plt\n",
    "\n",
    "from collections import defaultdict\n",
    "from scripts.analysis import data, plot\n",
    "\n",
    "plot.init_matplotlib()\n",
    "W, H = 5.5, 2.5\n",
    "\n",
    "def pad_missing_months(ts: pd.Series) -> pd.Series:\n",
    "    start, end = ts.index[0], ts.index[-1]\n",
    "    all_months = map(\n",
    "        lambda month: month.strftime(\"%Y-%m\"),\n",
    "        pd.date_range(start=start, end=end, freq=\"MS\"),\n",
    "    )\n",
    "    return ts.reindex(all_months, fill_value=0)"
   ]
  },
  {
   "cell_type": "code",
   "execution_count": 2,
   "metadata": {},
   "outputs": [],
   "source": [
    "repos_in_campaign = data.get_repos_with_campaign()\n",
    "repos = data.get_fake_star_repos()\n",
    "deleted = set(repos[repos.repo_id.isna()].repo_name)"
   ]
  },
  {
   "cell_type": "code",
   "execution_count": 3,
   "metadata": {},
   "outputs": [],
   "source": [
    "TRENDING_REPO = \"data/trending_archive\"\n",
    "MONTH_TO_TRENDING = defaultdict(set)\n",
    "pattern = re.compile(r'^\\d{4}-\\d{2}-\\d{2}\\.md$')\n",
    "for root, dir, files in os.walk(TRENDING_REPO):\n",
    "    for file_name in files:\n",
    "        if pattern.match(file_name):\n",
    "            with open(os.path.join(root, file_name), 'r') as file:\n",
    "                content = file.read()\n",
    "                repos = re.findall(r'https://github\\.com/([\\w-]+/[\\w-]+)', content)\n",
    "                for repo in repos:\n",
    "                    month = file_name[:7]\n",
    "                    MONTH_TO_TRENDING[month].add(repo)"
   ]
  },
  {
   "cell_type": "code",
   "execution_count": 30,
   "metadata": {},
   "outputs": [
    {
     "name": "stdout",
     "output_type": "stream",
     "text": [
      "2015-12 1 606 {'SuperTux/supertux'}\n",
      "2016-09 1 840 {'SuperTux/supertux'}\n",
      "2019-08 1 1340 {'harmony-one/harmony'}\n",
      "2019-10 1 1275 {'insight-chain/inb-go'}\n",
      "2019-11 1 1293 {'harmony-one/harmony'}\n",
      "2019-12 1 1094 {'SuperTux/supertux'}\n",
      "2021-02 1 1720 {'holochain/holochain'}\n",
      "2021-03 1 1799 {'holochain/holochain'}\n",
      "2021-04 2 1619 {'holochain/holochain', 'harmony-one/harmony'}\n",
      "2021-05 2 1888 {'holochain/holochain', 'harmony-one/harmony'}\n",
      "2021-07 1 1671 {'Wilfred/difftastic'}\n",
      "2021-08 1 1857 {'kazura233/web-daemon'}\n",
      "2021-09 1 1642 {'Wilfred/difftastic'}\n",
      "2021-12 1 1830 {'SuperTux/supertux'}\n",
      "2022-01 1 1902 {'nftdevs/NFTs-Upload-to-OpenSea'}\n",
      "2022-03 1 1915 {'Wilfred/difftastic'}\n",
      "2022-04 2 1842 {'Wilfred/difftastic', 'MagicedenMinter/SolanaMint'}\n",
      "2022-05 2 1856 {'help-iq2/telethon', 'marsCXXV/Magiceden-bot'}\n",
      "2022-06 2 1813 {'Wilfred/difftastic', 'FastMiners/Gminer'}\n",
      "2022-07 2 1855 {'Wilfred/difftastic', 'numbersprotocol/nit'}\n",
      "2022-08 1 1949 {'Wilfred/difftastic'}\n",
      "2022-09 2 1882 {'therealgliz/blooket-hacks', 'Wilfred/difftastic'}\n",
      "2022-10 1 1908 {'Wilfred/difftastic'}\n",
      "2022-11 2 1817 {'therealgliz/blooket-hacks', 'Wilfred/difftastic'}\n",
      "2022-12 2 1625 {'therealgliz/blooket-hacks', 'Wilfred/difftastic'}\n",
      "2023-01 4 1914 {'therealgliz/blooket-hacks', 'max32002/tixcraft_bot', 'Wilfred/difftastic', 'mahdibland/V2RayAggregator'}\n",
      "2023-02 3 1797 {'therealgliz/blooket-hacks', 'Wilfred/difftastic', 'mahdibland/V2RayAggregator'}\n",
      "2023-03 3 1912 {'matter-labs/zksync-web-era-docs', 'mahdibland/V2RayAggregator', 'therealgliz/blooket-hacks'}\n",
      "2023-04 3 1674 {'therealgliz/blooket-hacks', 'Wilfred/difftastic', 'mahdibland/V2RayAggregator'}\n",
      "2023-05 3 1754 {'therealgliz/blooket-hacks', 'mahdibland/V2RayAggregator', 'emuPlace/emuThreeDS'}\n",
      "2023-06 4 1895 {'therealgliz/blooket-hacks', 'diggerhq/digger', 'Wilfred/difftastic', 'emuPlace/emuThreeDS'}\n",
      "2023-07 2 1944 {'diggerhq/digger', 'Wilfred/difftastic'}\n",
      "2023-08 2 1845 {'base-org/withdrawer', 'dekrypted/discord-image-logger'}\n",
      "2023-09 3 1813 {'therealgliz/blooket-hacks', 'dekrypted/discord-image-logger', 'stellar/soroban-example-dapp'}\n",
      "2023-10 4 1890 {'therealgliz/blooket-hacks', 'max32002/tixcraft_bot', 'Wilfred/difftastic', 'Boeing/config-file-validator'}\n",
      "2023-11 2 1795 {'therealgliz/blooket-hacks', 'lastmile-ai/aiconfig'}\n",
      "2023-12 6 1962 {'wangzhaode/mnn-llm', 'matter-labs/zksync-web-era-docs', 'joaokristani/Discord-Server-Cloner-2x', 'therealgliz/blooket-hacks', 'max32002/tixcraft_bot', 'uuu555552/ptocode'}\n",
      "2024-01 5 1940 {'hitsz-ids/synthetic-data-generator', 'Wilfred/difftastic', 'max32002/tixcraft_bot', 'stellar/soroban-example-dapp', 'keephq/keep'}\n",
      "2024-02 14 1837 {'YPAndrew0907/Animal-Simulation-game', 'Wilson-ZheLin/Streamline-Analyst', 'matter-labs/hardhat-zksync', 'Azure/PyRIT', 'matter-labs/zksync-web-era-docs', 'Stock-Fund/XCrawler', 'Wilfred/difftastic', 'SuperTux/supertux', 'therealgliz/blooket-hacks', 'CN-annotation-team/leveldb-chinese-annotated', 'dekrypted/discord-image-logger', 'SKHon/diudiu', 'stellar/soroban-example-dapp', 'ethstorage/es-node'}\n",
      "2024-03 21 1906 {'fluencelabs/nox', 'semanser/codel', 'somta/Juggle', 'deepseek-ai/DeepSeek-VL', 'SuperTux/supertux', 'therealgliz/blooket-hacks', 'max32002/tixcraft_bot', 'developersdigest/llm-answer-engine', 'suyu-emu/suyu', 'lavague-ai/LaVague', 'Zejun-Yang/AniPortrait', 'traceloop/openllmetry', 'joaokristani/Discord-Server-Cloner-2x', 'fofr/cog-face-to-many', 'DeFiSolMaster/Solana-Sniper-Bot-Opensource', 'fudan-generative-vision/champ', 'sudachi-emu/sudachi', 'Wilfred/difftastic', 'OpenInterpreter/01', 'LLOneBot/LLOneBot', 'TMElyralab/MuseV'}\n",
      "2024-04 15 1853 {'fudan-generative-vision/champ', 'amlweems/xzbot', 'sudachi-emu/sudachi', 'Oligard008/Pancakeswap-Bot', 'mahdibland/V2RayAggregator', 'therealgliz/blooket-hacks', 'max32002/tixcraft_bot', 'developersdigest/llm-answer-engine', 'wvit/web-document', 'suyu-emu/suyu', 'NaishengZhang/book-recommendation-system', 'IceBearAI/LLM-And-More', 'TMElyralab/MuseV', 'Zejun-Yang/AniPortrait', 'X-PLUG/mPLUG-DocOwl'}\n",
      "2024-05 25 1940 {'fluencelabs/nox', 'Pandasswap/PancakeswapBot', 'NibiruChain/nibiru', 'Azure/PyRIT', 'rondagayman307/WhatsApp-Web-Spammer', 'svenundefinedshire/Wallet-stealer', 'deepseek-ai/DeepSeek-VL', 'GistNoesis/FourierKAN', 'max32002/tixcraft_bot', 'rubakloedeil10/WarfaceHCK', 'developersdigest/llm-answer-engine', 'suyu-emu/suyu', 'adysec/wechat_sqlite', 'solidSpoon/DashPlayer', 'yileijin/Bootstrap-3D-GS', 'adysec/cf-mirror', 'lavague-ai/LaVague', 'joaokristani/Discord-Server-Cloner-2x', 'mahdibland/V2RayAggregator', 'adysec/ARL', 'rothdezlife34/PointBlankHCK', 'rondaundefinedyard/worldoftanksHCK', 'sudachi-emu/sudachi', 'Wilfred/difftastic', 'OpenInterpreter/01'}\n",
      "2024-06 5 1568 {'Wilfred/difftastic', 'mahdibland/V2RayAggregator', 'suyu-emu/suyu', 'max32002/tixcraft_bot', 'face-hh/webx'}\n",
      "2024-07 5 1459 {'Azure/PyRIT', 'Wilfred/difftastic', 'joaokristani/Discord-Server-Cloner-2x', 'mahdibland/V2RayAggregator', 'ComposioHQ/composio'}\n",
      "2024-08 7 1509 {'Azure/PyRIT', 'Wilfred/difftastic', 'Cinnamon/kotaemon', 'KindlingProject/kindling', 'solidSpoon/DashPlayer', 'base-org/withdrawer', 'ComposioHQ/composio'}\n",
      "2024-09 6 1437 {'Azure/PyRIT', 'Wilfred/difftastic', 'Cinnamon/kotaemon', 'therealgliz/blooket-hacks', 'face-hh/webx', 'ComposioHQ/composio'}\n",
      "2024-10 10 1488 {'xszyou/Fay', 'Azure/PyRIT', 'traceloop/openllmetry', 'Wilfred/difftastic', 'mahdibland/V2RayAggregator', 'Cinnamon/kotaemon', 'therealgliz/blooket-hacks', 'keephq/keep', 'diggerhq/digger', 'ComposioHQ/composio'}\n",
      "2024-11 9 1422 {'xszyou/Fay', 'Wilfred/difftastic', 'mahdibland/V2RayAggregator', 'lailongwei/llbc', 'NexaAI/nexa-sdk', 'Cinnamon/kotaemon', 'therealgliz/blooket-hacks', 'keephq/keep', 'ComposioHQ/composio'}\n",
      "2024-12 7 1478 {'xszyou/Fay', 'Wilfred/difftastic', 'Cinnamon/kotaemon', 'therealgliz/blooket-hacks', 'keephq/keep', 'X-PLUG/mPLUG-DocOwl', 'ComposioHQ/composio'}\n",
      "2025-01 5 1287 {'xszyou/Fay', 'NexaAI/nexa-sdk', 'Cinnamon/kotaemon', 'solidSpoon/DashPlayer', 'keephq/keep'}\n",
      "78\n"
     ]
    }
   ],
   "source": [
    "github_repos, ts_all, ts_deleted = set(), {}, {}\n",
    "for month, repos in sorted(MONTH_TO_TRENDING.items()):\n",
    "    if len(repos & repos_in_campaign) > 0:\n",
    "        print(month, len(repos & repos_in_campaign), len(repos), repos & repos_in_campaign)\n",
    "        github_repos |= repos & repos_in_campaign\n",
    "        if month > \"2019\":\n",
    "            ts_all[month] = (len(repos & repos_in_campaign))\n",
    "            ts_deleted[month] = (len(repos & repos_in_campaign & deleted))\n",
    "ts_all = pad_missing_months(pd.Series(ts_all))\n",
    "ts_deleted = pad_missing_months(pd.Series(ts_deleted))\n",
    "print(len(github_repos))"
   ]
  },
  {
   "cell_type": "code",
   "execution_count": null,
   "metadata": {},
   "outputs": [
    {
     "data": {
      "image/png": "[encoded data removed]",
      "text/plain": [
       "<Figure size 550x250 with 1 Axes>"
      ]
     },
     "metadata": {},
     "output_type": "display_data"
    }
   ],
   "source": [
    "fig, ax = plt.subplots(1, 1, figsize=(W, H))\n",
    "ts_all.plot(kind=\"bar\", ax=ax, color=\"C0\")\n",
    "ts_deleted.plot(kind=\"bar\", ax=ax, color=\"C2\")\n",
    "ax.legend(\n",
    "    labels=[\n",
    "        \"# Repositories in GitHub Trending\",\n",
    "        \"# Deleted (as of January 2025)\",\n",
    "    ]\n",
    ")\n",
    "ax.set_xticks(range(0, len(ts_all), 8))\n",
    "ax.set_xticklabels(ts_all.index[::8])\n",
    "ax.set_xlabel(\"\")\n",
    "plot.remove_spines(ax)\n",
    "fig.autofmt_xdate(rotation=0, ha=\"center\")\n",
    "fig.savefig(\"plots/ts_trending.pdf\", bbox_inches=\"tight\")"
   ]
  }
 ],
 "metadata": {
  "kernelspec": {
   "display_name": "fake-stars",
   "language": "python",
   "name": "python3"
  },
  "language_info": {
   "codemirror_mode": {
    "name": "ipython",
    "version": 3
   },
   "file_extension": ".py",
   "mimetype": "text/x-python",
   "name": "python",
   "nbconvert_exporter": "python",
   "pygments_lexer": "ipython3",
   "version": "3.12.5"
  }
 },
 "nbformat": 4,
 "nbformat_minor": 2
}

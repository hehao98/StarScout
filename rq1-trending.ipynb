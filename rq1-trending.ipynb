{
 "cells": [
  {
   "cell_type": "code",
   "execution_count": 10,
   "metadata": {},
   "outputs": [],
   "source": [
    "import os\n",
    "import re\n",
    "\n",
    "from collections import defaultdict\n",
    "from scripts.analysis import data\n"
   ]
  },
  {
   "cell_type": "code",
   "execution_count": 14,
   "metadata": {},
   "outputs": [],
   "source": [
    "repos_in_campaign = data.get_repos_with_campaign()"
   ]
  },
  {
   "cell_type": "code",
   "execution_count": 13,
   "metadata": {},
   "outputs": [],
   "source": [
    "TRENDING_REPO = \"data/trending_archive\"\n",
    "MONTH_TO_TRENDING = defaultdict(set)\n",
    "pattern = re.compile(r'^\\d{4}-\\d{2}-\\d{2}\\.md$')\n",
    "for root, dir, files in os.walk(TRENDING_REPO):\n",
    "    for file_name in files:\n",
    "        if pattern.match(file_name):\n",
    "            with open(os.path.join(root, file_name), 'r') as file:\n",
    "                content = file.read()\n",
    "                repos = re.findall(r'https://github\\.com/([\\w-]+/[\\w-]+)', content)\n",
    "                for repo in repos:\n",
    "                    month = file_name[:7]\n",
    "                    MONTH_TO_TRENDING[month].add(repo)"
   ]
  },
  {
   "cell_type": "code",
   "execution_count": 17,
   "metadata": {},
   "outputs": [
    {
     "name": "stdout",
     "output_type": "stream",
     "text": [
      "2015-12 1 606 {'SuperTux/supertux'}\n",
      "2016-09 1 840 {'SuperTux/supertux'}\n",
      "2019-08 1 1340 {'harmony-one/harmony'}\n",
      "2019-10 1 1275 {'insight-chain/inb-go'}\n",
      "2019-11 1 1293 {'harmony-one/harmony'}\n",
      "2019-12 1 1094 {'SuperTux/supertux'}\n",
      "2021-02 1 1720 {'holochain/holochain'}\n",
      "2021-03 1 1799 {'holochain/holochain'}\n",
      "2021-04 2 1619 {'harmony-one/harmony', 'holochain/holochain'}\n",
      "2021-05 2 1888 {'harmony-one/harmony', 'holochain/holochain'}\n",
      "2021-07 1 1671 {'Wilfred/difftastic'}\n",
      "2021-08 1 1857 {'kazura233/web-daemon'}\n",
      "2021-09 1 1642 {'Wilfred/difftastic'}\n",
      "2021-12 1 1830 {'SuperTux/supertux'}\n",
      "2022-01 1 1902 {'nftdevs/NFTs-Upload-to-OpenSea'}\n",
      "2022-03 1 1915 {'Wilfred/difftastic'}\n",
      "2022-04 2 1842 {'MagicedenMinter/SolanaMint', 'Wilfred/difftastic'}\n",
      "2022-05 2 1856 {'marsCXXV/Magiceden-bot', 'help-iq2/telethon'}\n",
      "2022-06 2 1813 {'Wilfred/difftastic', 'FastMiners/Gminer'}\n",
      "2022-07 2 1855 {'numbersprotocol/nit', 'Wilfred/difftastic'}\n",
      "2022-08 1 1949 {'Wilfred/difftastic'}\n",
      "2022-09 2 1882 {'therealgliz/blooket-hacks', 'Wilfred/difftastic'}\n",
      "2022-10 1 1908 {'Wilfred/difftastic'}\n",
      "2022-11 2 1817 {'therealgliz/blooket-hacks', 'Wilfred/difftastic'}\n",
      "2022-12 2 1625 {'therealgliz/blooket-hacks', 'Wilfred/difftastic'}\n",
      "2023-01 4 1914 {'therealgliz/blooket-hacks', 'max32002/tixcraft_bot', 'mahdibland/V2RayAggregator', 'Wilfred/difftastic'}\n",
      "2023-02 3 1797 {'therealgliz/blooket-hacks', 'mahdibland/V2RayAggregator', 'Wilfred/difftastic'}\n",
      "2023-03 3 1912 {'therealgliz/blooket-hacks', 'matter-labs/zksync-web-era-docs', 'mahdibland/V2RayAggregator'}\n",
      "2023-04 3 1674 {'therealgliz/blooket-hacks', 'mahdibland/V2RayAggregator', 'Wilfred/difftastic'}\n",
      "2023-05 3 1754 {'therealgliz/blooket-hacks', 'emuPlace/emuThreeDS', 'mahdibland/V2RayAggregator'}\n",
      "2023-06 4 1895 {'diggerhq/digger', 'therealgliz/blooket-hacks', 'emuPlace/emuThreeDS', 'Wilfred/difftastic'}\n",
      "2023-07 2 1944 {'diggerhq/digger', 'Wilfred/difftastic'}\n",
      "2023-08 2 1845 {'base-org/withdrawer', 'dekrypted/discord-image-logger'}\n",
      "2023-09 3 1813 {'stellar/soroban-example-dapp', 'therealgliz/blooket-hacks', 'dekrypted/discord-image-logger'}\n",
      "2023-10 4 1890 {'therealgliz/blooket-hacks', 'Boeing/config-file-validator', 'max32002/tixcraft_bot', 'Wilfred/difftastic'}\n",
      "2023-11 2 1795 {'therealgliz/blooket-hacks', 'lastmile-ai/aiconfig'}\n",
      "2023-12 6 1962 {'joaokristani/Discord-Server-Cloner-2x', 'matter-labs/zksync-web-era-docs', 'therealgliz/blooket-hacks', 'uuu555552/ptocode', 'max32002/tixcraft_bot', 'wangzhaode/mnn-llm'}\n",
      "2024-01 5 1940 {'stellar/soroban-example-dapp', 'keephq/keep', 'max32002/tixcraft_bot', 'Wilfred/difftastic', 'hitsz-ids/synthetic-data-generator'}\n",
      "2024-02 14 1837 {'matter-labs/zksync-web-era-docs', 'therealgliz/blooket-hacks', 'YPAndrew0907/Animal-Simulation-game', 'Azure/PyRIT', 'stellar/soroban-example-dapp', 'SKHon/diudiu', 'CN-annotation-team/leveldb-chinese-annotated', 'Stock-Fund/XCrawler', 'Wilson-ZheLin/Streamline-Analyst', 'SuperTux/supertux', 'dekrypted/discord-image-logger', 'Wilfred/difftastic', 'matter-labs/hardhat-zksync', 'ethstorage/es-node'}\n",
      "2024-03 21 1906 {'suyu-emu/suyu', 'DeFiSolMaster/Solana-Sniper-Bot-Opensource', 'somta/Juggle', 'TMElyralab/MuseV', 'fluencelabs/nox', 'developersdigest/llm-answer-engine', 'sudachi-emu/sudachi', 'fudan-generative-vision/champ', 'joaokristani/Discord-Server-Cloner-2x', 'semanser/codel', 'max32002/tixcraft_bot', 'fofr/cog-face-to-many', 'Zejun-Yang/AniPortrait', 'therealgliz/blooket-hacks', 'deepseek-ai/DeepSeek-VL', 'traceloop/openllmetry', 'SuperTux/supertux', 'LLOneBot/LLOneBot', 'OpenInterpreter/01', 'lavague-ai/LaVague', 'Wilfred/difftastic'}\n",
      "2024-04 15 1853 {'Oligard008/Pancakeswap-Bot', 'therealgliz/blooket-hacks', 'NaishengZhang/book-recommendation-system', 'fudan-generative-vision/champ', 'suyu-emu/suyu', 'wvit/web-document', 'max32002/tixcraft_bot', 'IceBearAI/LLM-And-More', 'X-PLUG/mPLUG-DocOwl', 'mahdibland/V2RayAggregator', 'Zejun-Yang/AniPortrait', 'amlweems/xzbot', 'TMElyralab/MuseV', 'developersdigest/llm-answer-engine', 'sudachi-emu/sudachi'}\n",
      "2024-05 25 1940 {'GistNoesis/FourierKAN', 'suyu-emu/suyu', 'adysec/cf-mirror', 'adysec/ARL', 'mahdibland/V2RayAggregator', 'Azure/PyRIT', 'fluencelabs/nox', 'developersdigest/llm-answer-engine', 'sudachi-emu/sudachi', 'joaokristani/Discord-Server-Cloner-2x', 'max32002/tixcraft_bot', 'rondagayman307/WhatsApp-Web-Spammer', 'yileijin/Bootstrap-3D-GS', 'rondaundefinedyard/worldoftanksHCK', 'rothdezlife34/PointBlankHCK', 'NibiruChain/nibiru', 'deepseek-ai/DeepSeek-VL', 'solidSpoon/DashPlayer', 'adysec/wechat_sqlite', 'svenundefinedshire/Wallet-stealer', 'Pandasswap/PancakeswapBot', 'OpenInterpreter/01', 'lavague-ai/LaVague', 'Wilfred/difftastic', 'rubakloedeil10/WarfaceHCK'}\n",
      "2024-06 5 1568 {'suyu-emu/suyu', 'max32002/tixcraft_bot', 'mahdibland/V2RayAggregator', 'face-hh/webx', 'Wilfred/difftastic'}\n",
      "2024-07 5 1459 {'joaokristani/Discord-Server-Cloner-2x', 'ComposioHQ/composio', 'mahdibland/V2RayAggregator', 'Azure/PyRIT', 'Wilfred/difftastic'}\n",
      "2024-08 7 1509 {'base-org/withdrawer', 'Azure/PyRIT', 'ComposioHQ/composio', 'KindlingProject/kindling', 'Wilfred/difftastic', 'solidSpoon/DashPlayer', 'Cinnamon/kotaemon'}\n",
      "2024-09 6 1437 {'therealgliz/blooket-hacks', 'Azure/PyRIT', 'ComposioHQ/composio', 'face-hh/webx', 'Wilfred/difftastic', 'Cinnamon/kotaemon'}\n",
      "2024-10 10 1488 {'therealgliz/blooket-hacks', 'Azure/PyRIT', 'keephq/keep', 'ComposioHQ/composio', 'diggerhq/digger', 'mahdibland/V2RayAggregator', 'traceloop/openllmetry', 'Wilfred/difftastic', 'xszyou/Fay', 'Cinnamon/kotaemon'}\n",
      "2024-11 9 1422 {'therealgliz/blooket-hacks', 'keephq/keep', 'ComposioHQ/composio', 'mahdibland/V2RayAggregator', 'lailongwei/llbc', 'Wilfred/difftastic', 'xszyou/Fay', 'Cinnamon/kotaemon', 'NexaAI/nexa-sdk'}\n",
      "2024-12 7 1478 {'therealgliz/blooket-hacks', 'keephq/keep', 'ComposioHQ/composio', 'X-PLUG/mPLUG-DocOwl', 'Wilfred/difftastic', 'xszyou/Fay', 'Cinnamon/kotaemon'}\n",
      "2025-01 5 1287 {'keephq/keep', 'solidSpoon/DashPlayer', 'xszyou/Fay', 'Cinnamon/kotaemon', 'NexaAI/nexa-sdk'}\n"
     ]
    }
   ],
   "source": [
    "for month, repos in sorted(MONTH_TO_TRENDING.items()):\n",
    "    if len(repos & repos_in_campaign) > 0:\n",
    "        print(month, len(repos & repos_in_campaign), len(repos), repos & repos_in_campaign)"
   ]
  }
 ],
 "metadata": {
  "kernelspec": {
   "display_name": "fake-stars",
   "language": "python",
   "name": "python3"
  },
  "language_info": {
   "codemirror_mode": {
    "name": "ipython",
    "version": 3
   },
   "file_extension": ".py",
   "mimetype": "text/x-python",
   "name": "python",
   "nbconvert_exporter": "python",
   "pygments_lexer": "ipython3",
   "version": "3.12.5"
  }
 },
 "nbformat": 4,
 "nbformat_minor": 2
}

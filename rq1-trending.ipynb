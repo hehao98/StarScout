{
 "cells": [
  {
   "cell_type": "code",
   "execution_count": 3,
   "metadata": {},
   "outputs": [],
   "source": [
    "import os\n",
    "import re\n",
    "import pandas as pd\n",
    "import matplotlib.pyplot as plt\n",
    "\n",
    "from collections import defaultdict\n",
    "from scripts.analysis import data, plot\n",
    "\n",
    "plot.init_matplotlib()\n",
    "W, H = 5.5, 2.5\n",
    "\n",
    "def pad_missing_months(ts: pd.Series) -> pd.Series:\n",
    "    start, end = ts.index[0], ts.index[-1]\n",
    "    all_months = map(\n",
    "        lambda month: month.strftime(\"%Y-%m\"),\n",
    "        pd.date_range(start=start, end=end, freq=\"MS\"),\n",
    "    )\n",
    "    return ts.reindex(all_months, fill_value=0)"
   ]
  },
  {
   "cell_type": "code",
   "execution_count": 4,
   "metadata": {},
   "outputs": [],
   "source": [
    "repos_in_campaign = data.get_repos_with_campaign()\n",
    "repos = data.get_fake_star_repos()\n",
    "deleted = set(repos[repos.repo_id.isna()].repo_name)"
   ]
  },
  {
   "cell_type": "code",
   "execution_count": 5,
   "metadata": {},
   "outputs": [],
   "source": [
    "TRENDING_REPO = \"data/trending_archive\"\n",
    "MONTH_TO_TRENDING = defaultdict(set)\n",
    "pattern = re.compile(r'^\\d{4}-\\d{2}-\\d{2}\\.md$')\n",
    "for root, dir, files in os.walk(TRENDING_REPO):\n",
    "    for file_name in files:\n",
    "        if pattern.match(file_name):\n",
    "            with open(os.path.join(root, file_name), 'r') as file:\n",
    "                content = file.read()\n",
    "                repos = re.findall(r'https://github\\.com/([\\w-]+/[\\w-]+)', content)\n",
    "                for repo in repos:\n",
    "                    month = file_name[:7]\n",
    "                    MONTH_TO_TRENDING[month].add(repo)"
   ]
  },
  {
   "cell_type": "code",
   "execution_count": 6,
   "metadata": {},
   "outputs": [
    {
     "name": "stdout",
     "output_type": "stream",
     "text": [
      "2015-12 1 606 {'SuperTux/supertux'}\n",
      "2016-09 1 840 {'SuperTux/supertux'}\n",
      "2019-08 1 1340 {'harmony-one/harmony'}\n",
      "2019-10 1 1275 {'insight-chain/inb-go'}\n",
      "2019-11 1 1293 {'harmony-one/harmony'}\n",
      "2019-12 1 1094 {'SuperTux/supertux'}\n",
      "2021-02 1 1720 {'holochain/holochain'}\n",
      "2021-03 1 1799 {'holochain/holochain'}\n",
      "2021-04 2 1619 {'harmony-one/harmony', 'holochain/holochain'}\n",
      "2021-05 2 1888 {'harmony-one/harmony', 'holochain/holochain'}\n",
      "2021-07 1 1671 {'Wilfred/difftastic'}\n",
      "2021-08 1 1857 {'kazura233/web-daemon'}\n",
      "2021-09 1 1642 {'Wilfred/difftastic'}\n",
      "2021-12 1 1830 {'SuperTux/supertux'}\n",
      "2022-01 1 1902 {'nftdevs/NFTs-Upload-to-OpenSea'}\n",
      "2022-03 1 1915 {'Wilfred/difftastic'}\n",
      "2022-04 2 1842 {'MagicedenMinter/SolanaMint', 'Wilfred/difftastic'}\n",
      "2022-05 2 1856 {'marsCXXV/Magiceden-bot', 'help-iq2/telethon'}\n",
      "2022-06 2 1813 {'FastMiners/Gminer', 'Wilfred/difftastic'}\n",
      "2022-07 2 1855 {'numbersprotocol/nit', 'Wilfred/difftastic'}\n",
      "2022-08 1 1949 {'Wilfred/difftastic'}\n",
      "2022-09 2 1882 {'therealgliz/blooket-hacks', 'Wilfred/difftastic'}\n",
      "2022-10 1 1908 {'Wilfred/difftastic'}\n",
      "2022-11 2 1817 {'therealgliz/blooket-hacks', 'Wilfred/difftastic'}\n",
      "2022-12 2 1625 {'therealgliz/blooket-hacks', 'Wilfred/difftastic'}\n",
      "2023-01 4 1914 {'mahdibland/V2RayAggregator', 'therealgliz/blooket-hacks', 'max32002/tixcraft_bot', 'Wilfred/difftastic'}\n",
      "2023-02 3 1797 {'mahdibland/V2RayAggregator', 'therealgliz/blooket-hacks', 'Wilfred/difftastic'}\n",
      "2023-03 3 1912 {'mahdibland/V2RayAggregator', 'therealgliz/blooket-hacks', 'matter-labs/zksync-web-era-docs'}\n",
      "2023-04 3 1674 {'mahdibland/V2RayAggregator', 'therealgliz/blooket-hacks', 'Wilfred/difftastic'}\n",
      "2023-05 3 1754 {'mahdibland/V2RayAggregator', 'therealgliz/blooket-hacks', 'emuPlace/emuThreeDS'}\n",
      "2023-06 4 1895 {'therealgliz/blooket-hacks', 'emuPlace/emuThreeDS', 'diggerhq/digger', 'Wilfred/difftastic'}\n",
      "2023-07 2 1944 {'diggerhq/digger', 'Wilfred/difftastic'}\n",
      "2023-08 2 1845 {'dekrypted/discord-image-logger', 'base-org/withdrawer'}\n",
      "2023-09 3 1813 {'dekrypted/discord-image-logger', 'therealgliz/blooket-hacks', 'stellar/soroban-example-dapp'}\n",
      "2023-10 4 1890 {'Boeing/config-file-validator', 'therealgliz/blooket-hacks', 'max32002/tixcraft_bot', 'Wilfred/difftastic'}\n",
      "2023-11 2 1795 {'lastmile-ai/aiconfig', 'therealgliz/blooket-hacks'}\n",
      "2023-12 6 1962 {'joaokristani/Discord-Server-Cloner-2x', 'matter-labs/zksync-web-era-docs', 'therealgliz/blooket-hacks', 'max32002/tixcraft_bot', 'uuu555552/ptocode', 'wangzhaode/mnn-llm'}\n",
      "2024-01 5 1940 {'hitsz-ids/synthetic-data-generator', 'Wilfred/difftastic', 'max32002/tixcraft_bot', 'keephq/keep', 'stellar/soroban-example-dapp'}\n",
      "2024-02 14 1837 {'dekrypted/discord-image-logger', 'Wilson-ZheLin/Streamline-Analyst', 'SuperTux/supertux', 'Azure/PyRIT', 'CN-annotation-team/leveldb-chinese-annotated', 'matter-labs/hardhat-zksync', 'YPAndrew0907/Animal-Simulation-game', 'Wilfred/difftastic', 'SKHon/diudiu', 'ethstorage/es-node', 'therealgliz/blooket-hacks', 'matter-labs/zksync-web-era-docs', 'Stock-Fund/XCrawler', 'stellar/soroban-example-dapp'}\n",
      "2024-03 21 1906 {'OpenInterpreter/01', 'developersdigest/llm-answer-engine', 'DeFiSolMaster/Solana-Sniper-Bot-Opensource', 'sudachi-emu/sudachi', 'traceloop/openllmetry', 'therealgliz/blooket-hacks', 'deepseek-ai/DeepSeek-VL', 'Zejun-Yang/AniPortrait', 'joaokristani/Discord-Server-Cloner-2x', 'lavague-ai/LaVague', 'fluencelabs/nox', 'SuperTux/supertux', 'TMElyralab/MuseV', 'semanser/codel', 'fudan-generative-vision/champ', 'LLOneBot/LLOneBot', 'suyu-emu/suyu', 'fofr/cog-face-to-many', 'Wilfred/difftastic', 'somta/Juggle', 'max32002/tixcraft_bot'}\n",
      "2024-04 15 1853 {'developersdigest/llm-answer-engine', 'Zejun-Yang/AniPortrait', 'sudachi-emu/sudachi', 'Oligard008/Pancakeswap-Bot', 'TMElyralab/MuseV', 'suyu-emu/suyu', 'NaishengZhang/book-recommendation-system', 'IceBearAI/LLM-And-More', 'mahdibland/V2RayAggregator', 'therealgliz/blooket-hacks', 'max32002/tixcraft_bot', 'amlweems/xzbot', 'fudan-generative-vision/champ', 'wvit/web-document', 'X-PLUG/mPLUG-DocOwl'}\n",
      "2024-05 25 1940 {'OpenInterpreter/01', 'developersdigest/llm-answer-engine', 'sudachi-emu/sudachi', 'Azure/PyRIT', 'mahdibland/V2RayAggregator', 'deepseek-ai/DeepSeek-VL', 'rondagayman307/WhatsApp-Web-Spammer', 'joaokristani/Discord-Server-Cloner-2x', 'lavague-ai/LaVague', 'fluencelabs/nox', 'rubakloedeil10/WarfaceHCK', 'yileijin/Bootstrap-3D-GS', 'svenundefinedshire/Wallet-stealer', 'adysec/wechat_sqlite', 'suyu-emu/suyu', 'rondaundefinedyard/worldoftanksHCK', 'adysec/cf-mirror', 'Pandasswap/PancakeswapBot', 'adysec/ARL', 'solidSpoon/DashPlayer', 'Wilfred/difftastic', 'max32002/tixcraft_bot', 'rothdezlife34/PointBlankHCK', 'GistNoesis/FourierKAN', 'NibiruChain/nibiru'}\n",
      "2024-06 5 1568 {'face-hh/webx', 'suyu-emu/suyu', 'Wilfred/difftastic', 'mahdibland/V2RayAggregator', 'max32002/tixcraft_bot'}\n",
      "2024-07 5 1459 {'joaokristani/Discord-Server-Cloner-2x', 'Azure/PyRIT', 'ComposioHQ/composio', 'Wilfred/difftastic', 'mahdibland/V2RayAggregator'}\n",
      "2024-08 7 1509 {'KindlingProject/kindling', 'Azure/PyRIT', 'ComposioHQ/composio', 'solidSpoon/DashPlayer', 'Wilfred/difftastic', 'Cinnamon/kotaemon', 'base-org/withdrawer'}\n",
      "2024-09 6 1437 {'face-hh/webx', 'Azure/PyRIT', 'ComposioHQ/composio', 'Wilfred/difftastic', 'therealgliz/blooket-hacks', 'Cinnamon/kotaemon'}\n",
      "2024-10 10 1488 {'Azure/PyRIT', 'ComposioHQ/composio', 'traceloop/openllmetry', 'xszyou/Fay', 'Wilfred/difftastic', 'mahdibland/V2RayAggregator', 'therealgliz/blooket-hacks', 'Cinnamon/kotaemon', 'keephq/keep', 'diggerhq/digger'}\n",
      "2024-11 9 1422 {'lailongwei/llbc', 'ComposioHQ/composio', 'xszyou/Fay', 'Wilfred/difftastic', 'mahdibland/V2RayAggregator', 'therealgliz/blooket-hacks', 'Cinnamon/kotaemon', 'keephq/keep', 'NexaAI/nexa-sdk'}\n",
      "2024-12 7 1478 {'ComposioHQ/composio', 'xszyou/Fay', 'Wilfred/difftastic', 'therealgliz/blooket-hacks', 'Cinnamon/kotaemon', 'keephq/keep', 'X-PLUG/mPLUG-DocOwl'}\n",
      "2025-01 5 1287 {'solidSpoon/DashPlayer', 'xszyou/Fay', 'Cinnamon/kotaemon', 'keephq/keep', 'NexaAI/nexa-sdk'}\n",
      "78\n"
     ]
    }
   ],
   "source": [
    "github_repos, ts_all, ts_deleted = set(), {}, {}\n",
    "for month, repos in sorted(MONTH_TO_TRENDING.items()):\n",
    "    if len(repos & repos_in_campaign) > 0:\n",
    "        print(month, len(repos & repos_in_campaign), len(repos), repos & repos_in_campaign)\n",
    "        github_repos |= repos & repos_in_campaign\n",
    "        if month > \"2019\":\n",
    "            ts_all[month] = (len(repos & repos_in_campaign))\n",
    "            ts_deleted[month] = (len(repos & repos_in_campaign & deleted))\n",
    "ts_all = pad_missing_months(pd.Series(ts_all))\n",
    "ts_deleted = pad_missing_months(pd.Series(ts_deleted))\n",
    "print(len(github_repos))"
   ]
  },
  {
   "cell_type": "code",
   "execution_count": null,
   "metadata": {},
   "outputs": [
    {
     "data": {
      "image/png": "[encoded data removed]",
      "text/plain": [
       "<Figure size 550x125 with 1 Axes>"
      ]
     },
     "metadata": {},
     "output_type": "display_data"
    },
    {
     "ename": "",
     "evalue": "",
     "output_type": "error",
     "traceback": [
      "\u001b[1;31mThe Kernel crashed while executing code in the current cell or a previous cell. \n",
      "\u001b[1;31mPlease review the code in the cell(s) to identify a possible cause of the failure. \n",
      "\u001b[1;31mClick <a href='https://aka.ms/vscodeJupyterKernelCrash'>here</a> for more info. \n",
      "\u001b[1;31mView Jupyter <a href='command:jupyter.viewOutput'>log</a> for further details."
     ]
    }
   ],
   "source": [
    "fig, ax = plt.subplots(1, 1, figsize=(W, H/2))\n",
    "ts_all.plot(kind=\"bar\", ax=ax, color=\"C0\")\n",
    "ts_deleted.plot(kind=\"bar\", ax=ax, color=\"C2\")\n",
    "ax.legend(\n",
    "    labels=[\n",
    "        \"# Repositories in GitHub Trending\",\n",
    "        \"# Deleted (as of January 2025)\",\n",
    "    ]\n",
    ")\n",
    "ax.set_xticks(range(0, len(ts_all), 8))\n",
    "ax.set_xticklabels(ts_all.index[::8])\n",
    "ax.set_xlabel(\"\")\n",
    "plot.remove_spines(ax)\n",
    "fig.autofmt_xdate(rotation=0, ha=\"center\")\n",
    "fig.savefig(\"plots/ts_trending.pdf\", bbox_inches=\"tight\")"
   ]
  }
 ],
 "metadata": {
  "kernelspec": {
   "display_name": "fake-stars",
   "language": "python",
   "name": "python3"
  },
  "language_info": {
   "codemirror_mode": {
    "name": "ipython",
    "version": 3
   },
   "file_extension": ".py",
   "mimetype": "text/x-python",
   "name": "python",
   "nbconvert_exporter": "python",
   "pygments_lexer": "ipython3",
   "version": "3.12.5"
  }
 },
 "nbformat": 4,
 "nbformat_minor": 2
}

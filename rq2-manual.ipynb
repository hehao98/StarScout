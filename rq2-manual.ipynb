{
 "cells": [
  {
   "cell_type": "code",
   "execution_count": 20,
   "metadata": {},
   "outputs": [],
   "source": [
    "import os\n",
    "import re\n",
    "import random\n",
    "import pandas as pd\n",
    "from collections import Counter, defaultdict\n",
    "from scripts.analysis import data"
   ]
  },
  {
   "cell_type": "code",
   "execution_count": 15,
   "metadata": {},
   "outputs": [],
   "source": [
    "repos_in_campaign = data.get_repos_with_campaign()\n",
    "TRENDING_REPO = \"data/trending_archive\"\n",
    "MONTH_TO_TRENDING = defaultdict(set)\n",
    "pattern = re.compile(r'^\\d{4}-\\d{2}-\\d{2}\\.md$')\n",
    "for root, dir, files in os.walk(TRENDING_REPO):\n",
    "    for file_name in files:\n",
    "        if pattern.match(file_name):\n",
    "            with open(os.path.join(root, file_name), 'r') as file:\n",
    "                content = file.read()\n",
    "                repos = re.findall(r'https://github\\.com/([\\w-]+/[\\w-]+)', content)\n",
    "                for repo in repos:\n",
    "                    month = file_name[:7]\n",
    "                    MONTH_TO_TRENDING[month].add(repo)\n",
    "trending_repos = set()\n",
    "for repos in MONTH_TO_TRENDING.values():\n",
    "    trending_repos.update(repos & repos_in_campaign)"
   ]
  },
  {
   "cell_type": "code",
   "execution_count": 16,
   "metadata": {},
   "outputs": [
    {
     "name": "stdout",
     "output_type": "stream",
     "text": [
      "229 repositories with packages\n",
      "  web: 60 (26.20%)\n",
      "  blockchain: 41 (17.90%)\n",
      "  ai: 37 (16.16%)\n",
      "  suspicious: 23 (10.04%)\n",
      "  basic-utilty: 22 (9.61%)\n",
      "  other: 18 (7.86%)\n",
      "  database: 12 (5.24%)\n",
      "  deleted: 10 (4.37%)\n",
      "  tool/application: 6 (2.62%)\n"
     ]
    }
   ],
   "source": [
    "packages = pd.read_csv(\"data/packages_fake.csv\")\n",
    "packages.domain = packages.domain.map(lambda x: x.split(\":\")[0])\n",
    "domains = [df.domain.values[0] for x, df in packages.groupby(\"repo_name\")]\n",
    "print(len(packages.repo_name.unique()), \"repositories with packages\")\n",
    "for domain, count in sorted(Counter(domains).items(), key=lambda x: x[1], reverse=True):\n",
    "    percentage = (count / len(domains)) * 100\n",
    "    print(f\"  {domain}: {count} ({percentage:.2f}%)\")"
   ]
  },
  {
   "cell_type": "code",
   "execution_count": 22,
   "metadata": {},
   "outputs": [
    {
     "name": "stdout",
     "output_type": "stream",
     "text": [
      "1345\n"
     ]
    }
   ],
   "source": [
    "pkg_repo_domains = [(x, df.domain.values[0]) for x, df in packages.groupby(\"repo_name\")]\n",
    "repo_with_readmes = pd.read_csv(\"data/readmes/summary.csv\")\n",
    "repo_df = dict()\n",
    "for repo, domain in pkg_repo_domains:\n",
    "    repo_df[repo] = {\n",
    "        \"repo\": repo,\n",
    "        \"packages\": True,\n",
    "        \"trending\": repo in trending_repos,\n",
    "        \"domain\": domain,\n",
    "    }\n",
    "for repo in trending_repos:\n",
    "    if repo not in repo_df:\n",
    "        repo_df[repo] = {\n",
    "            \"repo\": repo,\n",
    "            \"packages\": False,\n",
    "            \"trending\": True,\n",
    "            \"domain\": \"\",\n",
    "        }\n",
    "remaining_repos = set(repo_with_readmes.repo) -  set(repo_df.keys())\n",
    "print(len(remaining_repos))\n",
    "for repo in random.sample(list(remaining_repos), 299):\n",
    "    repo_df[repo] = {\n",
    "        \"repo\": repo,\n",
    "        \"packages\": False,\n",
    "        \"trending\": False,\n",
    "        \"domain\": \"\",\n",
    "    }\n",
    "repo_df = pd.DataFrame(repo_df.values()).sort_values(\"repo\")\n",
    "repo_df.to_csv(\"data/repo_labels.csv\", index=False)"
   ]
  },
  {
   "cell_type": "code",
   "execution_count": 18,
   "metadata": {},
   "outputs": [
    {
     "data": {
      "text/plain": [
       "4"
      ]
     },
     "execution_count": 18,
     "metadata": {},
     "output_type": "execute_result"
    }
   ],
   "source": [
    "len(set(repo_df.keys()))\n"
   ]
  }
 ],
 "metadata": {
  "kernelspec": {
   "display_name": "fake-stars",
   "language": "python",
   "name": "python3"
  },
  "language_info": {
   "codemirror_mode": {
    "name": "ipython",
    "version": 3
   },
   "file_extension": ".py",
   "mimetype": "text/x-python",
   "name": "python",
   "nbconvert_exporter": "python",
   "pygments_lexer": "ipython3",
   "version": "3.12.5"
  }
 },
 "nbformat": 4,
 "nbformat_minor": 2
}

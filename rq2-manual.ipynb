{
 "cells": [
  {
   "cell_type": "code",
   "execution_count": 2,
   "metadata": {},
   "outputs": [],
   "source": [
    "import pandas as pd\n",
    "from collections import Counter"
   ]
  },
  {
   "cell_type": "code",
   "execution_count": 20,
   "metadata": {},
   "outputs": [
    {
     "name": "stdout",
     "output_type": "stream",
     "text": [
      "229 repositories with packages\n",
      "  web: 60 (26.20%)\n",
      "  blockchain: 41 (17.90%)\n",
      "  ai: 37 (16.16%)\n",
      "  suspicious: 23 (10.04%)\n",
      "  basic-utilty: 22 (9.61%)\n",
      "  other: 18 (7.86%)\n",
      "  database: 12 (5.24%)\n",
      "  deleted: 10 (4.37%)\n",
      "  tool/application: 6 (2.62%)\n"
     ]
    }
   ],
   "source": [
    "packages = pd.read_csv(\"data/packages_fake.csv\")\n",
    "packages.domain = packages.domain.map(lambda x: x.split(\":\")[0])\n",
    "domains = [df.domain.values[0] for x, df in packages.groupby(\"repo_name\")]\n",
    "print(len(packages.repo_name.unique()), \"repositories with packages\")\n",
    "for domain, count in sorted(Counter(domains).items(), key=lambda x: x[1], reverse=True):\n",
    "    percentage = (count / len(domains)) * 100\n",
    "    print(f\"  {domain}: {count} ({percentage:.2f}%)\")"
   ]
  },
  {
   "cell_type": "code",
   "execution_count": null,
   "metadata": {},
   "outputs": [],
   "source": []
  }
 ],
 "metadata": {
  "kernelspec": {
   "display_name": "fake-stars",
   "language": "python",
   "name": "python3"
  },
  "language_info": {
   "codemirror_mode": {
    "name": "ipython",
    "version": 3
   },
   "file_extension": ".py",
   "mimetype": "text/x-python",
   "name": "python",
   "nbconvert_exporter": "python",
   "pygments_lexer": "ipython3",
   "version": "3.12.4"
  }
 },
 "nbformat": 4,
 "nbformat_minor": 2
}

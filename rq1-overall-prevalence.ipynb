{
 "cells": [
  {
   "cell_type": "code",
   "execution_count": 1,
   "metadata": {},
   "outputs": [],
   "source": [
    "import pymongo\n",
    "import pandas as pd\n",
    "import matplotlib.pyplot as plt\n",
    "\n",
    "from collections import Counter\n",
    "from scripts import MONGO_URL\n",
    "from scripts.analysis import data, plot\n",
    "\n",
    "plot.init_matplotlib()\n",
    "W, H = 5.5, 2.5\n",
    "\n",
    "\n",
    "def pad_missing_months(ts: pd.Series) -> pd.Series:\n",
    "    start, end = ts.index[0], ts.index[-1]\n",
    "    all_months = map(\n",
    "        lambda month: month.strftime(\"%Y-%m\"),\n",
    "        pd.date_range(start=start, end=end, freq=\"MS\"),\n",
    "    )\n",
    "    return ts.reindex(all_months, fill_value=0)\n",
    "\n",
    "\n",
    "def aggreagte_user_ts(fake_type: str, repo_months: set[tuple[str, str]]) -> pd.Series:\n",
    "    assert fake_type in [\"low_activity\", \"clustered\"]\n",
    "    client = pymongo.MongoClient(MONGO_URL)\n",
    "    ts_users = (\n",
    "        pd.DataFrame(\n",
    "            map(\n",
    "                lambda x: {\n",
    "                    \"repo\": x[\"repo\"],\n",
    "                    \"month\": x[\"starred_at\"][:7],\n",
    "                    \"actor\": x[\"actor\"],\n",
    "                },\n",
    "                filter(\n",
    "                    lambda x: (x[\"repo\"], x[\"starred_at\"][:7]) in repo_months,\n",
    "                    list(\n",
    "                        client.fake_stars[f\"{fake_type}_stars\"].find(\n",
    "                            {\n",
    "                                \"repo\": {\"$in\": [x[0] for x in repo_months]},\n",
    "                                fake_type: True,\n",
    "                            }\n",
    "                        )\n",
    "                    ),\n",
    "                ),\n",
    "            ),\n",
    "        )\n",
    "        .groupby(\"month\")\n",
    "        .agg({\"actor\": set})\n",
    "    )\n",
    "    ts_users.rename(columns={\"actor\": f\"{fake_type}_actors\"}, inplace=True)\n",
    "    client.close()\n",
    "    return pad_missing_months(ts_users)"
   ]
  },
  {
   "cell_type": "code",
   "execution_count": 2,
   "metadata": {},
   "outputs": [],
   "source": [
    "repo_with_campaign = data.get_repos_with_campaign()\n",
    "stars_by_month = data.get_fake_stars_by_month()\n",
    "stars_by_month = stars_by_month[stars_by_month.month != \"2025-01\"]"
   ]
  },
  {
   "cell_type": "code",
   "execution_count": 3,
   "metadata": {},
   "outputs": [],
   "source": [
    "ts_real = pd.read_csv(\"data/all_github_stars_by_month.csv\").set_index(\"month\")[\n",
    "    \"n_stars\"\n",
    "]\n",
    "ts_fake = stars_by_month.groupby(\"month\").sum()[\n",
    "    [\"n_stars_low_activity\", \"n_stars_clustered\"]\n",
    "]\n",
    "ts_repos = pad_missing_months(\n",
    "    stars_by_month[stars_by_month.anomaly].groupby(\"month\").count()[[\"repo\"]]\n",
    ")"
   ]
  },
  {
   "cell_type": "code",
   "execution_count": 4,
   "metadata": {},
   "outputs": [],
   "source": [
    "ts_users = (\n",
    "    pd.read_csv(\"data/all_github_users_by_month.csv\")\n",
    "    .set_index(\"month\")[\"n_active_users\"]\n",
    "    .sort_index()\n",
    ")\n",
    "repo_months = set(\n",
    "    stars_by_month[stars_by_month.anomaly][[\"repo\", \"month\"]].apply(tuple, axis=1)\n",
    ")\n",
    "ts_users_low_activity = aggreagte_user_ts(\"low_activity\", repo_months)\n",
    "ts_users_clustered = aggreagte_user_ts(\"clustered\", repo_months)\n",
    "\n",
    "ts_fake_users = pd.concat([ts_users_low_activity, ts_users_clustered], axis=1)\n",
    "ts_fake_users.low_activity_actors = ts_fake_users.low_activity_actors.apply(\n",
    "    lambda x: x if not pd.isna(x) and not x == 0 else set()\n",
    ")\n",
    "ts_fake_users.clustered_actors = ts_fake_users.clustered_actors.apply(\n",
    "    lambda x: x if not pd.isna(x) and not x == 0 else set()\n",
    ")\n",
    "ts_fake_users[\"all\"] = ts_fake_users.apply(\n",
    "    lambda x: len(x[\"low_activity_actors\"] | x[\"clustered_actors\"]), axis=1\n",
    ")\n",
    "ts_fake_users[\"both\"] = ts_fake_users.apply(\n",
    "    lambda x: len(x[\"low_activity_actors\"] & x[\"clustered_actors\"]), axis=1\n",
    ")\n",
    "ts_fake_users[\"low_activity_actors\"] = ts_fake_users[\"low_activity_actors\"].apply(len)\n",
    "ts_fake_users[\"clustered_actors\"] = ts_fake_users[\"clustered_actors\"].apply(len)\n",
    "ts_fake_users[\"low_activity_only\"] = (\n",
    "    ts_fake_users[\"low_activity_actors\"] - ts_fake_users[\"both\"]\n",
    ")\n",
    "ts_fake_users[\"clustered_only\"] = (\n",
    "    ts_fake_users[\"clustered_actors\"] - ts_fake_users[\"both\"]\n",
    ")"
   ]
  },
  {
   "cell_type": "code",
   "execution_count": 5,
   "metadata": {},
   "outputs": [
    {
     "name": "stdout",
     "output_type": "stream",
     "text": [
      "2024-07 0.1665952482978622 3499\n",
      "2024-03 0.06593627001914446 117032\n"
     ]
    },
    {
     "data": {
      "image/png": "[encoded data removed]",
      "text/plain": [
       "<Figure size 550x125 with 1 Axes>"
      ]
     },
     "metadata": {},
     "output_type": "display_data"
    }
   ],
   "source": [
    "percentage = (ts_fake.n_stars_low_activity) / ts_real\n",
    "all_spiky_repos = pd.read_csv(\"data/all_github_repos_with_spikes.csv\")\n",
    "all_spiky_repos = all_spiky_repos.groupby(\"month\").count()\n",
    "\n",
    "fig, ax = plt.subplots(1, 1, figsize=(W, H/2))\n",
    "percentage.plot(kind=\"line\", ax=ax, color=\"C0\", linestyle=\":\")\n",
    "(ts_fake_users[\"all\"] / ts_users).plot(kind=\"line\", ax=ax, color=\"C2\", linestyle=\"--\")\n",
    "(ts_repos / all_spiky_repos).repo.plot(kind=\"line\", ax=ax, color=\"C1\", linestyle=\"-\")\n",
    "ax.legend(\n",
    "    labels=[\n",
    "        \"% Fake Stars (w.r.t. all stars in the month)\",\n",
    "        \"% Accounts (w.r.t. active users in the month)\",\n",
    "        \"% Repos (w.r.t. repos with ≥50 stars in the month)\",\n",
    "    ]\n",
    ")\n",
    "ax.set_xticks(range(0, len(ts_repos), 8))\n",
    "ax.set_xticklabels(ts_repos.index[::8])\n",
    "ax.set_yticks([0, 0.05, 0.1, 0.15])\n",
    "ax.set_yticklabels([\"0%\", \"5%\", \"10%\", \"15%\"])\n",
    "ax.set_xlabel(\"\")\n",
    "plot.remove_spines(ax)\n",
    "# fig.autofmt_xdate()\n",
    "fig.savefig(\"plots/ts_percentage.pdf\", bbox_inches=\"tight\")\n",
    "\n",
    "print(\n",
    "    (ts_repos / all_spiky_repos).repo.idxmax(),\n",
    "    (ts_repos / all_spiky_repos).repo.max(),\n",
    "    ts_repos.repo.max(),\n",
    ")\n",
    "print(\n",
    "    (ts_fake_users[\"all\"] / ts_users).idxmax(),\n",
    "    (ts_fake_users[\"all\"] / ts_users).max(),\n",
    "    ts_fake_users[\"all\"].max(),\n",
    ")"
   ]
  }
 ],
 "metadata": {
  "kernelspec": {
   "display_name": "fake-stars",
   "language": "python",
   "name": "python3"
  },
  "language_info": {
   "codemirror_mode": {
    "name": "ipython",
    "version": 3
   },
   "file_extension": ".py",
   "mimetype": "text/x-python",
   "name": "python",
   "nbconvert_exporter": "python",
   "pygments_lexer": "ipython3",
   "version": "3.12.5"
  }
 },
 "nbformat": 4,
 "nbformat_minor": 2
}
